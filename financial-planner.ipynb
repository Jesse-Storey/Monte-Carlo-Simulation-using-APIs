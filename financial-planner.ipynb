{
 "cells": [
  {
   "cell_type": "markdown",
   "metadata": {},
   "source": [
    "# Unit 5 - Financial Planning"
   ]
  },
  {
   "cell_type": "code",
   "execution_count": 1,
   "metadata": {},
   "outputs": [],
   "source": [
    "# Initial imports\n",
    "import os\n",
    "import requests\n",
    "import pandas as pd\n",
    "from dotenv import load_dotenv\n",
    "import alpaca_trade_api as tradeapi\n",
    "from MCForecastTools import MCSimulation\n",
    "import quandl\n",
    "\n",
    "%matplotlib inline"
   ]
  },
  {
   "cell_type": "code",
   "execution_count": 2,
   "metadata": {},
   "outputs": [],
   "source": [
    "import json"
   ]
  },
  {
   "cell_type": "code",
   "execution_count": 3,
   "metadata": {},
   "outputs": [
    {
     "data": {
      "text/plain": [
       "True"
      ]
     },
     "execution_count": 3,
     "metadata": {},
     "output_type": "execute_result"
    }
   ],
   "source": [
    "# Load .env enviroment variables\n",
    "load_dotenv()"
   ]
  },
  {
   "cell_type": "markdown",
   "metadata": {},
   "source": [
    "## Part 1 - Personal Finance Planner"
   ]
  },
  {
   "cell_type": "markdown",
   "metadata": {},
   "source": [
    "### Collect Crypto Prices Using the `requests` Library"
   ]
  },
  {
   "cell_type": "code",
   "execution_count": 4,
   "metadata": {},
   "outputs": [],
   "source": [
    "# Set current amount of crypto assets\n",
    "BTC = 1.2\n",
    "ETH = 5.3"
   ]
  },
  {
   "cell_type": "code",
   "execution_count": 5,
   "metadata": {},
   "outputs": [],
   "source": [
    "# Crypto API URLs\n",
    "btc_url = \"https://api.alternative.me/v2/ticker/Bitcoin/?convert=CAD\"\n",
    "eth_url = \"https://api.alternative.me/v2/ticker/Ethereum/?convert=CAD\""
   ]
  },
  {
   "cell_type": "code",
   "execution_count": 6,
   "metadata": {},
   "outputs": [
    {
     "name": "stdout",
     "output_type": "stream",
     "text": [
      "{\n",
      "    \"data\": {\n",
      "        \"1\": {\n",
      "            \"id\": 1,\n",
      "            \"name\": \"Bitcoin\",\n",
      "            \"symbol\": \"BTC\",\n",
      "            \"website_slug\": \"bitcoin\",\n",
      "            \"rank\": 1,\n",
      "            \"circulating_supply\": 18835168,\n",
      "            \"total_supply\": 18835168,\n",
      "            \"max_supply\": 21000000,\n",
      "            \"quotes\": {\n",
      "                \"USD\": {\n",
      "                    \"price\": 49396.0,\n",
      "                    \"volume_24h\": 33131975482,\n",
      "                    \"market_cap\": 930217730568,\n",
      "                    \"percentage_change_1h\": -0.0164781863423979,\n",
      "                    \"percentage_change_24h\": 3.28944948360083,\n",
      "                    \"percentage_change_7d\": 16.9207240671065,\n",
      "                    \"percent_change_1h\": -0.0164781863423979,\n",
      "                    \"percent_change_24h\": 3.28944948360083,\n",
      "                    \"percent_change_7d\": 16.9207240671065\n",
      "                }\n",
      "            },\n",
      "            \"last_updated\": 1633414192\n",
      "        }\n",
      "    },\n",
      "    \"metadata\": {\n",
      "        \"timestamp\": 1633414192,\n",
      "        \"num_cryptocurrencies\": 3105,\n",
      "        \"error\": null\n",
      "    }\n",
      "}\n"
     ]
    }
   ],
   "source": [
    "\n",
    "btc_url = \"https://api.alternative.me/v2/ticker/Bitcoin/?convert=CAD\"\n",
    "btc_url = btc_url + \"?format=json\"\n",
    "btc_data=requests.get(btc_url).json()\n",
    "print(json.dumps(btc_data, indent=4))\n",
    "btc_content=btc_data['data']['1']['quotes']['USD']['price']"
   ]
  },
  {
   "cell_type": "code",
   "execution_count": 7,
   "metadata": {},
   "outputs": [
    {
     "name": "stdout",
     "output_type": "stream",
     "text": [
      "{\n",
      "    \"data\": {\n",
      "        \"1027\": {\n",
      "            \"id\": 1027,\n",
      "            \"name\": \"Ethereum\",\n",
      "            \"symbol\": \"ETH\",\n",
      "            \"website_slug\": \"ethereum\",\n",
      "            \"rank\": 2,\n",
      "            \"circulating_supply\": 117799170,\n",
      "            \"total_supply\": 117799170,\n",
      "            \"max_supply\": 0,\n",
      "            \"quotes\": {\n",
      "                \"USD\": {\n",
      "                    \"price\": 3392.45,\n",
      "                    \"volume_24h\": 19593535824,\n",
      "                    \"market_cap\": 399425305658,\n",
      "                    \"percentage_change_1h\": 0.370998599270081,\n",
      "                    \"percentage_change_24h\": 0.716843724890548,\n",
      "                    \"percentage_change_7d\": 15.3996132831523,\n",
      "                    \"percent_change_1h\": 0.370998599270081,\n",
      "                    \"percent_change_24h\": 0.716843724890548,\n",
      "                    \"percent_change_7d\": 15.3996132831523\n",
      "                }\n",
      "            },\n",
      "            \"last_updated\": 1633414177\n",
      "        }\n",
      "    },\n",
      "    \"metadata\": {\n",
      "        \"timestamp\": 1633414177,\n",
      "        \"num_cryptocurrencies\": 3105,\n",
      "        \"error\": null\n",
      "    }\n",
      "}\n"
     ]
    }
   ],
   "source": [
    "eth_url = \"https://api.alternative.me/v2/ticker/Ethereum/?convert=CAD\"\n",
    "eth_url = eth_url + \"?format=json\"\n",
    "eth_data=requests.get(eth_url).json()\n",
    "print(json.dumps(eth_data, indent=4))\n",
    "eth_content=eth_data['data']['1027']['quotes']['USD']['price']"
   ]
  },
  {
   "cell_type": "code",
   "execution_count": 8,
   "metadata": {},
   "outputs": [
    {
     "name": "stdout",
     "output_type": "stream",
     "text": [
      "The current value of your 1.2 BTC is $49396.00\n",
      "The current value of your 5.3 ETH is $3392.45\n"
     ]
    }
   ],
   "source": [
    "# Print current crypto wallet balance\n",
    "print(f\"The current value of your {BTC} BTC is ${btc_content:0.2f}\")\n",
    "print(f\"The current value of your {ETH} ETH is ${eth_content:0.2f}\")"
   ]
  },
  {
   "cell_type": "markdown",
   "metadata": {},
   "source": [
    "### Collect Investments Data Using Alpaca: `SPY` (stocks) and `AGG` (bonds)"
   ]
  },
  {
   "cell_type": "code",
   "execution_count": 9,
   "metadata": {},
   "outputs": [],
   "source": [
    "# Set current amount of shares\n",
    "my_agg = 200\n",
    "my_spy = 50"
   ]
  },
  {
   "cell_type": "code",
   "execution_count": 10,
   "metadata": {},
   "outputs": [],
   "source": [
    "# Set Alpaca API key and secret\n",
    "alpaca_api_key = os.getenv(\"ALPACA_API_KEY\")\n",
    "alpaca_secret_key = os.getenv(\"ALPACA_SECRET_KEY\")\n",
    "\n",
    "\n",
    "\n",
    "# Create the Alpaca API object\n",
    "api = tradeapi.REST(\n",
    "    alpaca_api_key,\n",
    "    alpaca_secret_key,\n",
    "    api_version = \"v2\"\n",
    ")"
   ]
  },
  {
   "cell_type": "code",
   "execution_count": 11,
   "metadata": {},
   "outputs": [
    {
     "data": {
      "text/html": [
       "<div>\n",
       "<style scoped>\n",
       "    .dataframe tbody tr th:only-of-type {\n",
       "        vertical-align: middle;\n",
       "    }\n",
       "\n",
       "    .dataframe tbody tr th {\n",
       "        vertical-align: top;\n",
       "    }\n",
       "\n",
       "    .dataframe thead tr th {\n",
       "        text-align: left;\n",
       "    }\n",
       "\n",
       "    .dataframe thead tr:last-of-type th {\n",
       "        text-align: right;\n",
       "    }\n",
       "</style>\n",
       "<table border=\"1\" class=\"dataframe\">\n",
       "  <thead>\n",
       "    <tr>\n",
       "      <th></th>\n",
       "      <th colspan=\"5\" halign=\"left\">AGG</th>\n",
       "      <th colspan=\"5\" halign=\"left\">SPY</th>\n",
       "    </tr>\n",
       "    <tr>\n",
       "      <th></th>\n",
       "      <th>open</th>\n",
       "      <th>high</th>\n",
       "      <th>low</th>\n",
       "      <th>close</th>\n",
       "      <th>volume</th>\n",
       "      <th>open</th>\n",
       "      <th>high</th>\n",
       "      <th>low</th>\n",
       "      <th>close</th>\n",
       "      <th>volume</th>\n",
       "    </tr>\n",
       "    <tr>\n",
       "      <th>time</th>\n",
       "      <th></th>\n",
       "      <th></th>\n",
       "      <th></th>\n",
       "      <th></th>\n",
       "      <th></th>\n",
       "      <th></th>\n",
       "      <th></th>\n",
       "      <th></th>\n",
       "      <th></th>\n",
       "      <th></th>\n",
       "    </tr>\n",
       "  </thead>\n",
       "  <tbody>\n",
       "    <tr>\n",
       "      <th>2021-09-10 00:00:00-04:00</th>\n",
       "      <td>115.99</td>\n",
       "      <td>116.01</td>\n",
       "      <td>115.7801</td>\n",
       "      <td>115.87</td>\n",
       "      <td>2767552</td>\n",
       "      <td>451.04</td>\n",
       "      <td>451.49</td>\n",
       "      <td>445.31</td>\n",
       "      <td>445.5</td>\n",
       "      <td>75763259</td>\n",
       "    </tr>\n",
       "  </tbody>\n",
       "</table>\n",
       "</div>"
      ],
      "text/plain": [
       "                              AGG                                        SPY  \\\n",
       "                             open    high       low   close   volume    open   \n",
       "time                                                                           \n",
       "2021-09-10 00:00:00-04:00  115.99  116.01  115.7801  115.87  2767552  451.04   \n",
       "\n",
       "                                                            \n",
       "                             high     low  close    volume  \n",
       "time                                                        \n",
       "2021-09-10 00:00:00-04:00  451.49  445.31  445.5  75763259  "
      ]
     },
     "execution_count": 11,
     "metadata": {},
     "output_type": "execute_result"
    }
   ],
   "source": [
    "# Format current date as ISO format\n",
    "today = pd.Timestamp(\"2021-09-10\", tz=\"America/New_York\").isoformat()\n",
    "\n",
    "# Set the tickers\n",
    "tickers = [\"AGG\", \"SPY\"]\n",
    "\n",
    "# Set timeframe to '1D' for Alpaca API\n",
    "timeframe = \"1D\"\n",
    "\n",
    "# Get current closing prices for SPY and AGG\n",
    "ticker_data = api.get_barset(\n",
    "    tickers,\n",
    "    timeframe,\n",
    "    start=today,\n",
    "    end=today,\n",
    "    limit=1000,\n",
    ").df\n",
    "\n",
    "# Preview DataFrame\n",
    "ticker_data.head()"
   ]
  },
  {
   "cell_type": "code",
   "execution_count": 12,
   "metadata": {},
   "outputs": [
    {
     "name": "stdout",
     "output_type": "stream",
     "text": [
      "Current AGG closing price: $115.87\n",
      "Current SPY closing price: $445.5\n"
     ]
    }
   ],
   "source": [
    "# Pick AGG and SPY close prices\n",
    "agg_close_price = float(ticker_data[\"AGG\"][\"close\"])\n",
    "spy_close_price = float(ticker_data[\"SPY\"][\"close\"])\n",
    "\n",
    "# Print AGG and SPY close prices\n",
    "print(f\"Current AGG closing price: ${agg_close_price}\")\n",
    "print(f\"Current SPY closing price: ${spy_close_price}\")"
   ]
  },
  {
   "cell_type": "code",
   "execution_count": 13,
   "metadata": {},
   "outputs": [],
   "source": [
    "shares_data = {\n",
    "    \"shares\": [200, 50]\n",
    "}\n",
    "df_shares = pd.DataFrame(shares_data, index=tickers)"
   ]
  },
  {
   "cell_type": "code",
   "execution_count": 14,
   "metadata": {},
   "outputs": [
    {
     "name": "stdout",
     "output_type": "stream",
     "text": [
      "The current value of your 50 SPY shares is $23174.00\n",
      "The current value of your 200 AGG shares is $22275.00\n"
     ]
    }
   ],
   "source": [
    "# Compute the current value of shares\n",
    "agg_value = agg_close_price * df_shares.loc[\"AGG\"][\"shares\"]\n",
    "spy_value = spy_close_price * df_shares.loc[\"SPY\"][\"shares\"]\n",
    "\n",
    "# Print current value of shares\n",
    "print(f\"The current value of your {my_spy} SPY shares is ${agg_value:0.2f}\")\n",
    "print(f\"The current value of your {my_agg} AGG shares is ${spy_value:0.2f}\")"
   ]
  },
  {
   "cell_type": "markdown",
   "metadata": {},
   "source": [
    "### Savings Health Analysis"
   ]
  },
  {
   "cell_type": "code",
   "execution_count": 15,
   "metadata": {},
   "outputs": [
    {
     "data": {
      "text/html": [
       "<div>\n",
       "<style scoped>\n",
       "    .dataframe tbody tr th:only-of-type {\n",
       "        vertical-align: middle;\n",
       "    }\n",
       "\n",
       "    .dataframe tbody tr th {\n",
       "        vertical-align: top;\n",
       "    }\n",
       "\n",
       "    .dataframe thead th {\n",
       "        text-align: right;\n",
       "    }\n",
       "</style>\n",
       "<table border=\"1\" class=\"dataframe\">\n",
       "  <thead>\n",
       "    <tr style=\"text-align: right;\">\n",
       "      <th></th>\n",
       "      <th>cost</th>\n",
       "    </tr>\n",
       "  </thead>\n",
       "  <tbody>\n",
       "    <tr>\n",
       "      <th>crypto</th>\n",
       "      <td>52788.45</td>\n",
       "    </tr>\n",
       "    <tr>\n",
       "      <th>stocks</th>\n",
       "      <td>45449.00</td>\n",
       "    </tr>\n",
       "  </tbody>\n",
       "</table>\n",
       "</div>"
      ],
      "text/plain": [
       "            cost\n",
       "crypto  52788.45\n",
       "stocks  45449.00"
      ]
     },
     "metadata": {},
     "output_type": "display_data"
    }
   ],
   "source": [
    "# Set monthly household income\n",
    "monthly_income=12000\n",
    "\n",
    "# Consolidate financial assets data\n",
    "total_crypto=btc_content+eth_content\n",
    "total_stocks=agg_value+spy_value \n",
    "savings_data={\"cost\":[total_crypto,total_stocks]}\n",
    "save=[\"crypto\", \"stocks\"]\n",
    "# Create savings DataFrame\n",
    "df_savings = pd.DataFrame(savings_data, index=save)\n",
    "\n",
    "# Display savings DataFrame\n",
    "display(df_savings)"
   ]
  },
  {
   "cell_type": "code",
   "execution_count": 16,
   "metadata": {},
   "outputs": [
    {
     "data": {
      "text/plain": [
       "<AxesSubplot:title={'center':'Savings'}, ylabel='cost'>"
      ]
     },
     "execution_count": 16,
     "metadata": {},
     "output_type": "execute_result"
    },
    {
     "data": {
      "image/png": "[encoded data removed]",
      "text/plain": [
       "<Figure size 432x288 with 1 Axes>"
      ]
     },
     "metadata": {},
     "output_type": "display_data"
    }
   ],
   "source": [
    "# Plot savings pie chart\n",
    "df_savings.plot.pie(y=\"cost\", title='Savings')"
   ]
  },
  {
   "cell_type": "code",
   "execution_count": 17,
   "metadata": {},
   "outputs": [
    {
     "data": {
      "text/plain": [
       "134237.45"
      ]
     },
     "execution_count": 17,
     "metadata": {},
     "output_type": "execute_result"
    }
   ],
   "source": [
    "# Set ideal emergency fund\n",
    "emergency_fund = monthly_income * 3\n",
    "\n",
    "# Calculate total amount of savings\n",
    "total_savings=total_stocks+total_crypto+emergency_fund\n",
    "total_savings\n",
    "# Validate saving health\n",
    "# YOUR CODE HERE!"
   ]
  },
  {
   "cell_type": "markdown",
   "metadata": {},
   "source": [
    "## Part 2 - Retirement Planning\n",
    "\n",
    "### Monte Carlo Simulation"
   ]
  },
  {
   "cell_type": "code",
   "execution_count": 18,
   "metadata": {},
   "outputs": [],
   "source": [
    "# Set start and end dates of five years back from today.\n",
    "# Sample results may vary from the solution based on the time frame chosen\n",
    "start_date = pd.Timestamp('2016-10-03', tz='America/New_York').isoformat()\n",
    "end_date = pd.Timestamp('2021-10-03', tz='America/New_York').isoformat()"
   ]
  },
  {
   "cell_type": "code",
   "execution_count": 19,
   "metadata": {},
   "outputs": [
    {
     "data": {
      "text/html": [
       "<div>\n",
       "<style scoped>\n",
       "    .dataframe tbody tr th:only-of-type {\n",
       "        vertical-align: middle;\n",
       "    }\n",
       "\n",
       "    .dataframe tbody tr th {\n",
       "        vertical-align: top;\n",
       "    }\n",
       "\n",
       "    .dataframe thead tr th {\n",
       "        text-align: left;\n",
       "    }\n",
       "\n",
       "    .dataframe thead tr:last-of-type th {\n",
       "        text-align: right;\n",
       "    }\n",
       "</style>\n",
       "<table border=\"1\" class=\"dataframe\">\n",
       "  <thead>\n",
       "    <tr>\n",
       "      <th></th>\n",
       "      <th colspan=\"5\" halign=\"left\">AGG</th>\n",
       "      <th colspan=\"5\" halign=\"left\">SPY</th>\n",
       "    </tr>\n",
       "    <tr>\n",
       "      <th></th>\n",
       "      <th>open</th>\n",
       "      <th>high</th>\n",
       "      <th>low</th>\n",
       "      <th>close</th>\n",
       "      <th>volume</th>\n",
       "      <th>open</th>\n",
       "      <th>high</th>\n",
       "      <th>low</th>\n",
       "      <th>close</th>\n",
       "      <th>volume</th>\n",
       "    </tr>\n",
       "    <tr>\n",
       "      <th>time</th>\n",
       "      <th></th>\n",
       "      <th></th>\n",
       "      <th></th>\n",
       "      <th></th>\n",
       "      <th></th>\n",
       "      <th></th>\n",
       "      <th></th>\n",
       "      <th></th>\n",
       "      <th></th>\n",
       "      <th></th>\n",
       "    </tr>\n",
       "  </thead>\n",
       "  <tbody>\n",
       "    <tr>\n",
       "      <th>2017-10-12 00:00:00-04:00</th>\n",
       "      <td>109.56</td>\n",
       "      <td>109.61</td>\n",
       "      <td>109.48</td>\n",
       "      <td>109.61</td>\n",
       "      <td>1797948</td>\n",
       "      <td>254.66</td>\n",
       "      <td>255.06</td>\n",
       "      <td>254.365</td>\n",
       "      <td>254.60</td>\n",
       "      <td>32195167</td>\n",
       "    </tr>\n",
       "    <tr>\n",
       "      <th>2017-10-13 00:00:00-04:00</th>\n",
       "      <td>109.82</td>\n",
       "      <td>109.87</td>\n",
       "      <td>109.69</td>\n",
       "      <td>109.85</td>\n",
       "      <td>1573645</td>\n",
       "      <td>255.14</td>\n",
       "      <td>255.27</td>\n",
       "      <td>254.640</td>\n",
       "      <td>254.91</td>\n",
       "      <td>33563533</td>\n",
       "    </tr>\n",
       "    <tr>\n",
       "      <th>2017-10-16 00:00:00-04:00</th>\n",
       "      <td>109.75</td>\n",
       "      <td>109.81</td>\n",
       "      <td>109.66</td>\n",
       "      <td>109.74</td>\n",
       "      <td>3556213</td>\n",
       "      <td>255.21</td>\n",
       "      <td>255.51</td>\n",
       "      <td>254.820</td>\n",
       "      <td>255.30</td>\n",
       "      <td>25720677</td>\n",
       "    </tr>\n",
       "    <tr>\n",
       "      <th>2017-10-17 00:00:00-04:00</th>\n",
       "      <td>109.62</td>\n",
       "      <td>109.74</td>\n",
       "      <td>109.55</td>\n",
       "      <td>109.70</td>\n",
       "      <td>1638086</td>\n",
       "      <td>255.24</td>\n",
       "      <td>255.52</td>\n",
       "      <td>254.980</td>\n",
       "      <td>255.46</td>\n",
       "      <td>23608473</td>\n",
       "    </tr>\n",
       "    <tr>\n",
       "      <th>2017-10-18 00:00:00-04:00</th>\n",
       "      <td>109.51</td>\n",
       "      <td>109.56</td>\n",
       "      <td>109.46</td>\n",
       "      <td>109.53</td>\n",
       "      <td>1511319</td>\n",
       "      <td>255.90</td>\n",
       "      <td>255.95</td>\n",
       "      <td>255.500</td>\n",
       "      <td>255.69</td>\n",
       "      <td>25173613</td>\n",
       "    </tr>\n",
       "  </tbody>\n",
       "</table>\n",
       "</div>"
      ],
      "text/plain": [
       "                              AGG                                      SPY  \\\n",
       "                             open    high     low   close   volume    open   \n",
       "time                                                                         \n",
       "2017-10-12 00:00:00-04:00  109.56  109.61  109.48  109.61  1797948  254.66   \n",
       "2017-10-13 00:00:00-04:00  109.82  109.87  109.69  109.85  1573645  255.14   \n",
       "2017-10-16 00:00:00-04:00  109.75  109.81  109.66  109.74  3556213  255.21   \n",
       "2017-10-17 00:00:00-04:00  109.62  109.74  109.55  109.70  1638086  255.24   \n",
       "2017-10-18 00:00:00-04:00  109.51  109.56  109.46  109.53  1511319  255.90   \n",
       "\n",
       "                                                              \n",
       "                             high      low   close    volume  \n",
       "time                                                          \n",
       "2017-10-12 00:00:00-04:00  255.06  254.365  254.60  32195167  \n",
       "2017-10-13 00:00:00-04:00  255.27  254.640  254.91  33563533  \n",
       "2017-10-16 00:00:00-04:00  255.51  254.820  255.30  25720677  \n",
       "2017-10-17 00:00:00-04:00  255.52  254.980  255.46  23608473  \n",
       "2017-10-18 00:00:00-04:00  255.95  255.500  255.69  25173613  "
      ]
     },
     "execution_count": 19,
     "metadata": {},
     "output_type": "execute_result"
    }
   ],
   "source": [
    "# Get 5 years' worth of historical data for SPY and AGG\n",
    "# (use a limit=1000 parameter to call the most recent 1000 days of data)\n",
    "df_stock_data = api.get_barset(\n",
    "    tickers,\n",
    "    timeframe,\n",
    "    start=start_date,\n",
    "    end=end_date,\n",
    "    limit=1000,\n",
    ").df\n",
    "\n",
    "# Display sample data\n",
    "df_stock_data.head()"
   ]
  },
  {
   "cell_type": "code",
   "execution_count": 20,
   "metadata": {},
   "outputs": [],
   "source": [
    "# Configuring a Monte Carlo simulation to forecast 30 years cumulative returns\n",
    "num_sims = 500\n",
    "\n",
    "\n",
    "MC_thirtyyear = MCSimulation(\n",
    "    portfolio_data = df_stock_data,\n",
    "    weights = [.60,.40],\n",
    "    num_simulation = num_sims,\n",
    "    num_trading_days = 252*30\n",
    ")"
   ]
  },
  {
   "cell_type": "code",
   "execution_count": 21,
   "metadata": {},
   "outputs": [
    {
     "data": {
      "text/html": [
       "<div>\n",
       "<style scoped>\n",
       "    .dataframe tbody tr th:only-of-type {\n",
       "        vertical-align: middle;\n",
       "    }\n",
       "\n",
       "    .dataframe tbody tr th {\n",
       "        vertical-align: top;\n",
       "    }\n",
       "\n",
       "    .dataframe thead tr th {\n",
       "        text-align: left;\n",
       "    }\n",
       "\n",
       "    .dataframe thead tr:last-of-type th {\n",
       "        text-align: right;\n",
       "    }\n",
       "</style>\n",
       "<table border=\"1\" class=\"dataframe\">\n",
       "  <thead>\n",
       "    <tr>\n",
       "      <th></th>\n",
       "      <th colspan=\"6\" halign=\"left\">AGG</th>\n",
       "      <th colspan=\"6\" halign=\"left\">SPY</th>\n",
       "    </tr>\n",
       "    <tr>\n",
       "      <th></th>\n",
       "      <th>open</th>\n",
       "      <th>high</th>\n",
       "      <th>low</th>\n",
       "      <th>close</th>\n",
       "      <th>volume</th>\n",
       "      <th>daily_return</th>\n",
       "      <th>open</th>\n",
       "      <th>high</th>\n",
       "      <th>low</th>\n",
       "      <th>close</th>\n",
       "      <th>volume</th>\n",
       "      <th>daily_return</th>\n",
       "    </tr>\n",
       "    <tr>\n",
       "      <th>time</th>\n",
       "      <th></th>\n",
       "      <th></th>\n",
       "      <th></th>\n",
       "      <th></th>\n",
       "      <th></th>\n",
       "      <th></th>\n",
       "      <th></th>\n",
       "      <th></th>\n",
       "      <th></th>\n",
       "      <th></th>\n",
       "      <th></th>\n",
       "      <th></th>\n",
       "    </tr>\n",
       "  </thead>\n",
       "  <tbody>\n",
       "    <tr>\n",
       "      <th>2017-10-12 00:00:00-04:00</th>\n",
       "      <td>109.56</td>\n",
       "      <td>109.61</td>\n",
       "      <td>109.48</td>\n",
       "      <td>109.61</td>\n",
       "      <td>1797948</td>\n",
       "      <td>NaN</td>\n",
       "      <td>254.66</td>\n",
       "      <td>255.06</td>\n",
       "      <td>254.365</td>\n",
       "      <td>254.60</td>\n",
       "      <td>32195167</td>\n",
       "      <td>NaN</td>\n",
       "    </tr>\n",
       "    <tr>\n",
       "      <th>2017-10-13 00:00:00-04:00</th>\n",
       "      <td>109.82</td>\n",
       "      <td>109.87</td>\n",
       "      <td>109.69</td>\n",
       "      <td>109.85</td>\n",
       "      <td>1573645</td>\n",
       "      <td>0.002190</td>\n",
       "      <td>255.14</td>\n",
       "      <td>255.27</td>\n",
       "      <td>254.640</td>\n",
       "      <td>254.91</td>\n",
       "      <td>33563533</td>\n",
       "      <td>0.001218</td>\n",
       "    </tr>\n",
       "    <tr>\n",
       "      <th>2017-10-16 00:00:00-04:00</th>\n",
       "      <td>109.75</td>\n",
       "      <td>109.81</td>\n",
       "      <td>109.66</td>\n",
       "      <td>109.74</td>\n",
       "      <td>3556213</td>\n",
       "      <td>-0.001001</td>\n",
       "      <td>255.21</td>\n",
       "      <td>255.51</td>\n",
       "      <td>254.820</td>\n",
       "      <td>255.30</td>\n",
       "      <td>25720677</td>\n",
       "      <td>0.001530</td>\n",
       "    </tr>\n",
       "    <tr>\n",
       "      <th>2017-10-17 00:00:00-04:00</th>\n",
       "      <td>109.62</td>\n",
       "      <td>109.74</td>\n",
       "      <td>109.55</td>\n",
       "      <td>109.70</td>\n",
       "      <td>1638086</td>\n",
       "      <td>-0.000364</td>\n",
       "      <td>255.24</td>\n",
       "      <td>255.52</td>\n",
       "      <td>254.980</td>\n",
       "      <td>255.46</td>\n",
       "      <td>23608473</td>\n",
       "      <td>0.000627</td>\n",
       "    </tr>\n",
       "    <tr>\n",
       "      <th>2017-10-18 00:00:00-04:00</th>\n",
       "      <td>109.51</td>\n",
       "      <td>109.56</td>\n",
       "      <td>109.46</td>\n",
       "      <td>109.53</td>\n",
       "      <td>1511319</td>\n",
       "      <td>-0.001550</td>\n",
       "      <td>255.90</td>\n",
       "      <td>255.95</td>\n",
       "      <td>255.500</td>\n",
       "      <td>255.69</td>\n",
       "      <td>25173613</td>\n",
       "      <td>0.000900</td>\n",
       "    </tr>\n",
       "  </tbody>\n",
       "</table>\n",
       "</div>"
      ],
      "text/plain": [
       "                              AGG                                   \\\n",
       "                             open    high     low   close   volume   \n",
       "time                                                                 \n",
       "2017-10-12 00:00:00-04:00  109.56  109.61  109.48  109.61  1797948   \n",
       "2017-10-13 00:00:00-04:00  109.82  109.87  109.69  109.85  1573645   \n",
       "2017-10-16 00:00:00-04:00  109.75  109.81  109.66  109.74  3556213   \n",
       "2017-10-17 00:00:00-04:00  109.62  109.74  109.55  109.70  1638086   \n",
       "2017-10-18 00:00:00-04:00  109.51  109.56  109.46  109.53  1511319   \n",
       "\n",
       "                                           SPY                           \\\n",
       "                          daily_return    open    high      low   close   \n",
       "time                                                                      \n",
       "2017-10-12 00:00:00-04:00          NaN  254.66  255.06  254.365  254.60   \n",
       "2017-10-13 00:00:00-04:00     0.002190  255.14  255.27  254.640  254.91   \n",
       "2017-10-16 00:00:00-04:00    -0.001001  255.21  255.51  254.820  255.30   \n",
       "2017-10-17 00:00:00-04:00    -0.000364  255.24  255.52  254.980  255.46   \n",
       "2017-10-18 00:00:00-04:00    -0.001550  255.90  255.95  255.500  255.69   \n",
       "\n",
       "                                                  \n",
       "                             volume daily_return  \n",
       "time                                              \n",
       "2017-10-12 00:00:00-04:00  32195167          NaN  \n",
       "2017-10-13 00:00:00-04:00  33563533     0.001218  \n",
       "2017-10-16 00:00:00-04:00  25720677     0.001530  \n",
       "2017-10-17 00:00:00-04:00  23608473     0.000627  \n",
       "2017-10-18 00:00:00-04:00  25173613     0.000900  "
      ]
     },
     "execution_count": 21,
     "metadata": {},
     "output_type": "execute_result"
    }
   ],
   "source": [
    "# Printing the simulation input data\n",
    "MC_thirtyyear.portfolio_data.head()"
   ]
  },
  {
   "cell_type": "code",
   "execution_count": 22,
   "metadata": {},
   "outputs": [
    {
     "name": "stdout",
     "output_type": "stream",
     "text": [
      "Running Monte Carlo simulation number 0.\n",
      "Running Monte Carlo simulation number 10.\n",
      "Running Monte Carlo simulation number 20.\n",
      "Running Monte Carlo simulation number 30.\n",
      "Running Monte Carlo simulation number 40.\n",
      "Running Monte Carlo simulation number 50.\n",
      "Running Monte Carlo simulation number 60.\n",
      "Running Monte Carlo simulation number 70.\n",
      "Running Monte Carlo simulation number 80.\n",
      "Running Monte Carlo simulation number 90.\n",
      "Running Monte Carlo simulation number 100.\n",
      "Running Monte Carlo simulation number 110.\n",
      "Running Monte Carlo simulation number 120.\n",
      "Running Monte Carlo simulation number 130.\n",
      "Running Monte Carlo simulation number 140.\n",
      "Running Monte Carlo simulation number 150.\n",
      "Running Monte Carlo simulation number 160.\n",
      "Running Monte Carlo simulation number 170.\n",
      "Running Monte Carlo simulation number 180.\n",
      "Running Monte Carlo simulation number 190.\n",
      "Running Monte Carlo simulation number 200.\n",
      "Running Monte Carlo simulation number 210.\n",
      "Running Monte Carlo simulation number 220.\n",
      "Running Monte Carlo simulation number 230.\n",
      "Running Monte Carlo simulation number 240.\n",
      "Running Monte Carlo simulation number 250.\n",
      "Running Monte Carlo simulation number 260.\n",
      "Running Monte Carlo simulation number 270.\n",
      "Running Monte Carlo simulation number 280.\n",
      "Running Monte Carlo simulation number 290.\n",
      "Running Monte Carlo simulation number 300.\n",
      "Running Monte Carlo simulation number 310.\n",
      "Running Monte Carlo simulation number 320.\n",
      "Running Monte Carlo simulation number 330.\n",
      "Running Monte Carlo simulation number 340.\n",
      "Running Monte Carlo simulation number 350.\n",
      "Running Monte Carlo simulation number 360.\n",
      "Running Monte Carlo simulation number 370.\n",
      "Running Monte Carlo simulation number 380.\n",
      "Running Monte Carlo simulation number 390.\n",
      "Running Monte Carlo simulation number 400.\n",
      "Running Monte Carlo simulation number 410.\n",
      "Running Monte Carlo simulation number 420.\n",
      "Running Monte Carlo simulation number 430.\n",
      "Running Monte Carlo simulation number 440.\n",
      "Running Monte Carlo simulation number 450.\n",
      "Running Monte Carlo simulation number 460.\n",
      "Running Monte Carlo simulation number 470.\n",
      "Running Monte Carlo simulation number 480.\n",
      "Running Monte Carlo simulation number 490.\n"
     ]
    },
    {
     "data": {
      "text/html": [
       "<div>\n",
       "<style scoped>\n",
       "    .dataframe tbody tr th:only-of-type {\n",
       "        vertical-align: middle;\n",
       "    }\n",
       "\n",
       "    .dataframe tbody tr th {\n",
       "        vertical-align: top;\n",
       "    }\n",
       "\n",
       "    .dataframe thead th {\n",
       "        text-align: right;\n",
       "    }\n",
       "</style>\n",
       "<table border=\"1\" class=\"dataframe\">\n",
       "  <thead>\n",
       "    <tr style=\"text-align: right;\">\n",
       "      <th></th>\n",
       "      <th>0</th>\n",
       "      <th>1</th>\n",
       "      <th>2</th>\n",
       "      <th>3</th>\n",
       "      <th>4</th>\n",
       "      <th>5</th>\n",
       "      <th>6</th>\n",
       "      <th>7</th>\n",
       "      <th>8</th>\n",
       "      <th>9</th>\n",
       "      <th>...</th>\n",
       "      <th>490</th>\n",
       "      <th>491</th>\n",
       "      <th>492</th>\n",
       "      <th>493</th>\n",
       "      <th>494</th>\n",
       "      <th>495</th>\n",
       "      <th>496</th>\n",
       "      <th>497</th>\n",
       "      <th>498</th>\n",
       "      <th>499</th>\n",
       "    </tr>\n",
       "  </thead>\n",
       "  <tbody>\n",
       "    <tr>\n",
       "      <th>0</th>\n",
       "      <td>1.000000</td>\n",
       "      <td>1.000000</td>\n",
       "      <td>1.000000</td>\n",
       "      <td>1.000000</td>\n",
       "      <td>1.000000</td>\n",
       "      <td>1.000000</td>\n",
       "      <td>1.000000</td>\n",
       "      <td>1.000000</td>\n",
       "      <td>1.000000</td>\n",
       "      <td>1.000000</td>\n",
       "      <td>...</td>\n",
       "      <td>1.000000</td>\n",
       "      <td>1.000000</td>\n",
       "      <td>1.000000</td>\n",
       "      <td>1.000000</td>\n",
       "      <td>1.000000</td>\n",
       "      <td>1.000000</td>\n",
       "      <td>1.000000</td>\n",
       "      <td>1.000000</td>\n",
       "      <td>1.000000</td>\n",
       "      <td>1.000000</td>\n",
       "    </tr>\n",
       "    <tr>\n",
       "      <th>1</th>\n",
       "      <td>1.005377</td>\n",
       "      <td>0.996552</td>\n",
       "      <td>0.990969</td>\n",
       "      <td>0.995355</td>\n",
       "      <td>1.003868</td>\n",
       "      <td>1.003682</td>\n",
       "      <td>1.004999</td>\n",
       "      <td>1.003489</td>\n",
       "      <td>1.007990</td>\n",
       "      <td>0.996323</td>\n",
       "      <td>...</td>\n",
       "      <td>1.004243</td>\n",
       "      <td>1.000367</td>\n",
       "      <td>1.006697</td>\n",
       "      <td>1.001874</td>\n",
       "      <td>1.002995</td>\n",
       "      <td>0.992351</td>\n",
       "      <td>1.003417</td>\n",
       "      <td>0.995339</td>\n",
       "      <td>1.004008</td>\n",
       "      <td>0.997831</td>\n",
       "    </tr>\n",
       "    <tr>\n",
       "      <th>2</th>\n",
       "      <td>1.012724</td>\n",
       "      <td>0.990382</td>\n",
       "      <td>0.996340</td>\n",
       "      <td>0.995728</td>\n",
       "      <td>0.994317</td>\n",
       "      <td>1.000401</td>\n",
       "      <td>1.002777</td>\n",
       "      <td>0.991156</td>\n",
       "      <td>1.010923</td>\n",
       "      <td>0.999568</td>\n",
       "      <td>...</td>\n",
       "      <td>1.010258</td>\n",
       "      <td>1.001152</td>\n",
       "      <td>1.017195</td>\n",
       "      <td>1.004295</td>\n",
       "      <td>0.989802</td>\n",
       "      <td>0.992627</td>\n",
       "      <td>1.008635</td>\n",
       "      <td>0.997196</td>\n",
       "      <td>0.993363</td>\n",
       "      <td>0.999041</td>\n",
       "    </tr>\n",
       "    <tr>\n",
       "      <th>3</th>\n",
       "      <td>1.006508</td>\n",
       "      <td>0.987864</td>\n",
       "      <td>0.993949</td>\n",
       "      <td>1.000441</td>\n",
       "      <td>0.993379</td>\n",
       "      <td>0.996988</td>\n",
       "      <td>1.008710</td>\n",
       "      <td>0.981379</td>\n",
       "      <td>0.998584</td>\n",
       "      <td>1.003305</td>\n",
       "      <td>...</td>\n",
       "      <td>1.013816</td>\n",
       "      <td>1.007836</td>\n",
       "      <td>1.015466</td>\n",
       "      <td>1.006977</td>\n",
       "      <td>0.986912</td>\n",
       "      <td>0.993868</td>\n",
       "      <td>1.008999</td>\n",
       "      <td>0.994036</td>\n",
       "      <td>1.005064</td>\n",
       "      <td>0.996546</td>\n",
       "    </tr>\n",
       "    <tr>\n",
       "      <th>4</th>\n",
       "      <td>1.001236</td>\n",
       "      <td>0.993174</td>\n",
       "      <td>0.997105</td>\n",
       "      <td>0.999532</td>\n",
       "      <td>0.998786</td>\n",
       "      <td>0.987925</td>\n",
       "      <td>1.010538</td>\n",
       "      <td>0.978332</td>\n",
       "      <td>0.989403</td>\n",
       "      <td>1.002865</td>\n",
       "      <td>...</td>\n",
       "      <td>1.028377</td>\n",
       "      <td>1.008215</td>\n",
       "      <td>1.008864</td>\n",
       "      <td>1.009428</td>\n",
       "      <td>0.986950</td>\n",
       "      <td>0.999375</td>\n",
       "      <td>1.008245</td>\n",
       "      <td>0.985564</td>\n",
       "      <td>1.004008</td>\n",
       "      <td>1.009998</td>\n",
       "    </tr>\n",
       "    <tr>\n",
       "      <th>...</th>\n",
       "      <td>...</td>\n",
       "      <td>...</td>\n",
       "      <td>...</td>\n",
       "      <td>...</td>\n",
       "      <td>...</td>\n",
       "      <td>...</td>\n",
       "      <td>...</td>\n",
       "      <td>...</td>\n",
       "      <td>...</td>\n",
       "      <td>...</td>\n",
       "      <td>...</td>\n",
       "      <td>...</td>\n",
       "      <td>...</td>\n",
       "      <td>...</td>\n",
       "      <td>...</td>\n",
       "      <td>...</td>\n",
       "      <td>...</td>\n",
       "      <td>...</td>\n",
       "      <td>...</td>\n",
       "      <td>...</td>\n",
       "      <td>...</td>\n",
       "    </tr>\n",
       "    <tr>\n",
       "      <th>7556</th>\n",
       "      <td>6.131144</td>\n",
       "      <td>9.344252</td>\n",
       "      <td>7.082055</td>\n",
       "      <td>9.380246</td>\n",
       "      <td>5.486584</td>\n",
       "      <td>7.550825</td>\n",
       "      <td>9.471079</td>\n",
       "      <td>4.330363</td>\n",
       "      <td>7.728814</td>\n",
       "      <td>5.970050</td>\n",
       "      <td>...</td>\n",
       "      <td>5.217694</td>\n",
       "      <td>8.502619</td>\n",
       "      <td>9.887680</td>\n",
       "      <td>10.198900</td>\n",
       "      <td>4.282648</td>\n",
       "      <td>17.015658</td>\n",
       "      <td>3.720940</td>\n",
       "      <td>8.208299</td>\n",
       "      <td>5.261533</td>\n",
       "      <td>8.117282</td>\n",
       "    </tr>\n",
       "    <tr>\n",
       "      <th>7557</th>\n",
       "      <td>6.154429</td>\n",
       "      <td>9.442417</td>\n",
       "      <td>7.058298</td>\n",
       "      <td>9.375886</td>\n",
       "      <td>5.498773</td>\n",
       "      <td>7.543989</td>\n",
       "      <td>9.491979</td>\n",
       "      <td>4.354650</td>\n",
       "      <td>7.749331</td>\n",
       "      <td>5.950065</td>\n",
       "      <td>...</td>\n",
       "      <td>5.239202</td>\n",
       "      <td>8.477771</td>\n",
       "      <td>9.922275</td>\n",
       "      <td>10.189599</td>\n",
       "      <td>4.263696</td>\n",
       "      <td>17.228496</td>\n",
       "      <td>3.714000</td>\n",
       "      <td>8.183591</td>\n",
       "      <td>5.296419</td>\n",
       "      <td>8.128186</td>\n",
       "    </tr>\n",
       "    <tr>\n",
       "      <th>7558</th>\n",
       "      <td>6.171910</td>\n",
       "      <td>9.467098</td>\n",
       "      <td>7.035471</td>\n",
       "      <td>9.377473</td>\n",
       "      <td>5.467290</td>\n",
       "      <td>7.522371</td>\n",
       "      <td>9.551567</td>\n",
       "      <td>4.351807</td>\n",
       "      <td>7.729842</td>\n",
       "      <td>5.899542</td>\n",
       "      <td>...</td>\n",
       "      <td>5.272531</td>\n",
       "      <td>8.495953</td>\n",
       "      <td>10.007716</td>\n",
       "      <td>10.146558</td>\n",
       "      <td>4.228049</td>\n",
       "      <td>16.945344</td>\n",
       "      <td>3.768607</td>\n",
       "      <td>8.134613</td>\n",
       "      <td>5.267922</td>\n",
       "      <td>8.126953</td>\n",
       "    </tr>\n",
       "    <tr>\n",
       "      <th>7559</th>\n",
       "      <td>6.164598</td>\n",
       "      <td>9.458632</td>\n",
       "      <td>7.007013</td>\n",
       "      <td>9.411957</td>\n",
       "      <td>5.463624</td>\n",
       "      <td>7.534559</td>\n",
       "      <td>9.579038</td>\n",
       "      <td>4.388244</td>\n",
       "      <td>7.732895</td>\n",
       "      <td>5.929632</td>\n",
       "      <td>...</td>\n",
       "      <td>5.285993</td>\n",
       "      <td>8.585778</td>\n",
       "      <td>10.034457</td>\n",
       "      <td>10.132090</td>\n",
       "      <td>4.214285</td>\n",
       "      <td>17.056530</td>\n",
       "      <td>3.824940</td>\n",
       "      <td>8.184853</td>\n",
       "      <td>5.301232</td>\n",
       "      <td>8.137052</td>\n",
       "    </tr>\n",
       "    <tr>\n",
       "      <th>7560</th>\n",
       "      <td>6.214951</td>\n",
       "      <td>9.512383</td>\n",
       "      <td>6.944749</td>\n",
       "      <td>9.301981</td>\n",
       "      <td>5.431147</td>\n",
       "      <td>7.565802</td>\n",
       "      <td>9.514188</td>\n",
       "      <td>4.359652</td>\n",
       "      <td>7.795634</td>\n",
       "      <td>5.953846</td>\n",
       "      <td>...</td>\n",
       "      <td>5.319906</td>\n",
       "      <td>8.549339</td>\n",
       "      <td>10.025898</td>\n",
       "      <td>10.142843</td>\n",
       "      <td>4.251364</td>\n",
       "      <td>17.063929</td>\n",
       "      <td>3.817380</td>\n",
       "      <td>8.177414</td>\n",
       "      <td>5.298362</td>\n",
       "      <td>8.150147</td>\n",
       "    </tr>\n",
       "  </tbody>\n",
       "</table>\n",
       "<p>7561 rows × 500 columns</p>\n",
       "</div>"
      ],
      "text/plain": [
       "           0         1         2         3         4         5         6    \\\n",
       "0     1.000000  1.000000  1.000000  1.000000  1.000000  1.000000  1.000000   \n",
       "1     1.005377  0.996552  0.990969  0.995355  1.003868  1.003682  1.004999   \n",
       "2     1.012724  0.990382  0.996340  0.995728  0.994317  1.000401  1.002777   \n",
       "3     1.006508  0.987864  0.993949  1.000441  0.993379  0.996988  1.008710   \n",
       "4     1.001236  0.993174  0.997105  0.999532  0.998786  0.987925  1.010538   \n",
       "...        ...       ...       ...       ...       ...       ...       ...   \n",
       "7556  6.131144  9.344252  7.082055  9.380246  5.486584  7.550825  9.471079   \n",
       "7557  6.154429  9.442417  7.058298  9.375886  5.498773  7.543989  9.491979   \n",
       "7558  6.171910  9.467098  7.035471  9.377473  5.467290  7.522371  9.551567   \n",
       "7559  6.164598  9.458632  7.007013  9.411957  5.463624  7.534559  9.579038   \n",
       "7560  6.214951  9.512383  6.944749  9.301981  5.431147  7.565802  9.514188   \n",
       "\n",
       "           7         8         9    ...       490       491        492  \\\n",
       "0     1.000000  1.000000  1.000000  ...  1.000000  1.000000   1.000000   \n",
       "1     1.003489  1.007990  0.996323  ...  1.004243  1.000367   1.006697   \n",
       "2     0.991156  1.010923  0.999568  ...  1.010258  1.001152   1.017195   \n",
       "3     0.981379  0.998584  1.003305  ...  1.013816  1.007836   1.015466   \n",
       "4     0.978332  0.989403  1.002865  ...  1.028377  1.008215   1.008864   \n",
       "...        ...       ...       ...  ...       ...       ...        ...   \n",
       "7556  4.330363  7.728814  5.970050  ...  5.217694  8.502619   9.887680   \n",
       "7557  4.354650  7.749331  5.950065  ...  5.239202  8.477771   9.922275   \n",
       "7558  4.351807  7.729842  5.899542  ...  5.272531  8.495953  10.007716   \n",
       "7559  4.388244  7.732895  5.929632  ...  5.285993  8.585778  10.034457   \n",
       "7560  4.359652  7.795634  5.953846  ...  5.319906  8.549339  10.025898   \n",
       "\n",
       "            493       494        495       496       497       498       499  \n",
       "0      1.000000  1.000000   1.000000  1.000000  1.000000  1.000000  1.000000  \n",
       "1      1.001874  1.002995   0.992351  1.003417  0.995339  1.004008  0.997831  \n",
       "2      1.004295  0.989802   0.992627  1.008635  0.997196  0.993363  0.999041  \n",
       "3      1.006977  0.986912   0.993868  1.008999  0.994036  1.005064  0.996546  \n",
       "4      1.009428  0.986950   0.999375  1.008245  0.985564  1.004008  1.009998  \n",
       "...         ...       ...        ...       ...       ...       ...       ...  \n",
       "7556  10.198900  4.282648  17.015658  3.720940  8.208299  5.261533  8.117282  \n",
       "7557  10.189599  4.263696  17.228496  3.714000  8.183591  5.296419  8.128186  \n",
       "7558  10.146558  4.228049  16.945344  3.768607  8.134613  5.267922  8.126953  \n",
       "7559  10.132090  4.214285  17.056530  3.824940  8.184853  5.301232  8.137052  \n",
       "7560  10.142843  4.251364  17.063929  3.817380  8.177414  5.298362  8.150147  \n",
       "\n",
       "[7561 rows x 500 columns]"
      ]
     },
     "execution_count": 22,
     "metadata": {},
     "output_type": "execute_result"
    }
   ],
   "source": [
    "# Running a Monte Carlo simulation to forecast 30 years cumulative returns\n",
    "MC_thirtyyear.calc_cumulative_return()"
   ]
  },
  {
   "cell_type": "code",
   "execution_count": 28,
   "metadata": {},
   "outputs": [
    {
     "data": {
      "image/png": "[encoded data removed]",
      "text/plain": [
       "<Figure size 432x288 with 1 Axes>"
      ]
     },
     "execution_count": 28,
     "metadata": {},
     "output_type": "execute_result"
    },
    {
     "data": {
      "image/png": "[encoded data removed]",
      "text/plain": [
       "<Figure size 432x288 with 1 Axes>"
      ]
     },
     "metadata": {
      "needs_background": "light"
     },
     "output_type": "display_data"
    }
   ],
   "source": [
    "# Plot simulation outcomes\n",
    "line_plot = MC_thirtyyear.plot_simulation()\n",
    "line_plot.get_figure()"
   ]
  },
  {
   "cell_type": "code",
   "execution_count": 24,
   "metadata": {},
   "outputs": [
    {
     "data": {
      "text/plain": [
       "<AxesSubplot:ylabel='Frequency'>"
      ]
     },
     "execution_count": 24,
     "metadata": {},
     "output_type": "execute_result"
    },
    {
     "data": {
      "image/png": "[encoded data removed]",
      "text/plain": [
       "<Figure size 432x288 with 1 Axes>"
      ]
     },
     "metadata": {
      "needs_background": "light"
     },
     "output_type": "display_data"
    }
   ],
   "source": [
    "# Plot probability distribution and confidence intervals\n",
    "\n",
    "df_closing_prices = pd.DataFrame()\n",
    "\n",
    "\n",
    "for ticker in tickers:\n",
    "    df_closing_prices[ticker] = df_stock_data[ticker][\"close\"]\n",
    "\n",
    "# Drop the time component of the date\n",
    "df_closing_prices.index = df_closing_prices.index.date\n",
    "\n",
    "\n",
    "# Compute daily returns\n",
    "df_daily_returns = df_closing_prices.pct_change().dropna()\n",
    "\n",
    "df_daily_returns.plot.hist()"
   ]
  },
  {
   "cell_type": "markdown",
   "metadata": {},
   "source": [
    "### Retirement Analysis"
   ]
  },
  {
   "cell_type": "code",
   "execution_count": 25,
   "metadata": {},
   "outputs": [
    {
     "name": "stdout",
     "output_type": "stream",
     "text": [
      "count           500.000000\n",
      "mean              8.385312\n",
      "std               4.261583\n",
      "min               1.780656\n",
      "25%               5.366418\n",
      "50%               7.314431\n",
      "75%              10.534674\n",
      "max              33.565896\n",
      "95% CI Lower      2.808841\n",
      "95% CI Upper     18.550222\n",
      "Name: 7560, dtype: float64\n"
     ]
    }
   ],
   "source": [
    "# Fetch summary statistics from the Monte Carlo simulation results\n",
    "tbl = MC_thirtyyear.summarize_cumulative_return()\n",
    "\n",
    "# Print summary statistics\n",
    "print(tbl)"
   ]
  },
  {
   "cell_type": "markdown",
   "metadata": {},
   "source": [
    "### Calculate the expected portfolio return at the `95%` lower and upper confidence intervals based on a `$20,000` initial investment."
   ]
  },
  {
   "cell_type": "code",
   "execution_count": 26,
   "metadata": {},
   "outputs": [
    {
     "name": "stdout",
     "output_type": "stream",
     "text": [
      "There is a 95% chance that an initial investment of $20000 in the portfolio over the next 30 years will end within in the range of $56176.83 and $371004.44\n"
     ]
    }
   ],
   "source": [
    "# Set initial investment\n",
    "initial_investment = 20000\n",
    "\n",
    "# Use the lower and upper `95%` confidence intervals to calculate the range of the possible outcomes of our $20,000\n",
    "ci_lower = round(tbl[8]*initial_investment,2)\n",
    "ci_upper = round(tbl[9]*initial_investment,2)\n",
    "\n",
    "# Print results\n",
    "print(f\"There is a 95% chance that an initial investment of ${initial_investment} in the portfolio\"\n",
    "      f\" over the next 30 years will end within in the range of\"\n",
    "      f\" ${ci_lower} and ${ci_upper}\")"
   ]
  },
  {
   "cell_type": "markdown",
   "metadata": {},
   "source": [
    "### Calculate the expected portfolio return at the `95%` lower and upper confidence intervals based on a `50%` increase in the initial investment."
   ]
  },
  {
   "cell_type": "code",
   "execution_count": 27,
   "metadata": {},
   "outputs": [
    {
     "name": "stdout",
     "output_type": "stream",
     "text": [
      "There is a 95% chance that an initial investment of $30000.0 in the portfolio over the next 30 years will end within in the range of $84265.24 and $556506.67\n"
     ]
    }
   ],
   "source": [
    "# Set initial investment\n",
    "initial_investment = 20000 * 1.5\n",
    "\n",
    "# Use the lower and upper `95%` confidence intervals to calculate the range of the possible outcomes of our $30,000\n",
    "ci_lower = round(tbl[8]*initial_investment,2)\n",
    "ci_upper = round(tbl[9]*initial_investment,2)\n",
    "\n",
    "# Print results\n",
    "print(f\"There is a 95% chance that an initial investment of ${initial_investment} in the portfolio\"\n",
    "      f\" over the next 30 years will end within in the range of\"\n",
    "      f\" ${ci_lower} and ${ci_upper}\")"
   ]
  },
  {
   "cell_type": "markdown",
   "metadata": {},
   "source": [
    "## Optional Challenge - Early Retirement\n",
    "\n",
    "\n",
    "### Five Years Retirement Option"
   ]
  },
  {
   "cell_type": "code",
   "execution_count": null,
   "metadata": {},
   "outputs": [],
   "source": [
    "# Configuring a Monte Carlo simulation to forecast 5 years cumulative returns\n",
    "# YOUR CODE HERE!"
   ]
  },
  {
   "cell_type": "code",
   "execution_count": null,
   "metadata": {},
   "outputs": [],
   "source": [
    "# Running a Monte Carlo simulation to forecast 5 years cumulative returns\n",
    "# YOUR CODE HERE!"
   ]
  },
  {
   "cell_type": "code",
   "execution_count": null,
   "metadata": {},
   "outputs": [],
   "source": [
    "# Plot simulation outcomes\n",
    "# YOUR CODE HERE!"
   ]
  },
  {
   "cell_type": "code",
   "execution_count": null,
   "metadata": {},
   "outputs": [],
   "source": [
    "# Plot probability distribution and confidence intervals\n",
    "# YOUR CODE HERE!"
   ]
  },
  {
   "cell_type": "code",
   "execution_count": null,
   "metadata": {},
   "outputs": [],
   "source": [
    "# Fetch summary statistics from the Monte Carlo simulation results\n",
    "# YOUR CODE HERE!\n",
    "\n",
    "# Print summary statistics\n",
    "# YOUR CODE HERE!"
   ]
  },
  {
   "cell_type": "code",
   "execution_count": null,
   "metadata": {},
   "outputs": [],
   "source": [
    "# Set initial investment\n",
    "# YOUR CODE HERE!\n",
    "\n",
    "# Use the lower and upper `95%` confidence intervals to calculate the range of the possible outcomes of our $60,000\n",
    "# YOUR CODE HERE!\n",
    "\n",
    "# Print results\n",
    "print(f\"There is a 95% chance that an initial investment of ${initial_investment} in the portfolio\"\n",
    "      f\" over the next 5 years will end within in the range of\"\n",
    "      f\" ${ci_lower_five} and ${ci_upper_five}\")"
   ]
  },
  {
   "cell_type": "markdown",
   "metadata": {},
   "source": [
    "### Ten Years Retirement Option"
   ]
  },
  {
   "cell_type": "code",
   "execution_count": null,
   "metadata": {},
   "outputs": [],
   "source": [
    "# Configuring a Monte Carlo simulation to forecast 10 years cumulative returns\n",
    "# YOUR CODE HERE!"
   ]
  },
  {
   "cell_type": "code",
   "execution_count": null,
   "metadata": {},
   "outputs": [],
   "source": [
    "# Running a Monte Carlo simulation to forecast 10 years cumulative returns\n",
    "# YOUR CODE HERE!"
   ]
  },
  {
   "cell_type": "code",
   "execution_count": null,
   "metadata": {},
   "outputs": [],
   "source": [
    "# Plot simulation outcomes\n",
    "# YOUR CODE HERE!"
   ]
  },
  {
   "cell_type": "code",
   "execution_count": null,
   "metadata": {},
   "outputs": [],
   "source": [
    "# Plot probability distribution and confidence intervals\n",
    "# YOUR CODE HERE!"
   ]
  },
  {
   "cell_type": "code",
   "execution_count": null,
   "metadata": {},
   "outputs": [],
   "source": [
    "# Fetch summary statistics from the Monte Carlo simulation results\n",
    "# YOUR CODE HERE!\n",
    "\n",
    "# Print summary statistics\n",
    "# YOUR CODE HERE!"
   ]
  },
  {
   "cell_type": "code",
   "execution_count": null,
   "metadata": {},
   "outputs": [],
   "source": [
    "# Set initial investment\n",
    "# YOUR CODE HERE!\n",
    "\n",
    "# Use the lower and upper `95%` confidence intervals to calculate the range of the possible outcomes of our $60,000\n",
    "# YOUR CODE HERE!\n",
    "\n",
    "# Print results\n",
    "print(f\"There is a 95% chance that an initial investment of ${initial_investment} in the portfolio\"\n",
    "      f\" over the next 10 years will end within in the range of\"\n",
    "      f\" ${ci_lower_ten} and ${ci_upper_ten}\")"
   ]
  },
  {
   "cell_type": "code",
   "execution_count": null,
   "metadata": {},
   "outputs": [],
   "source": []
  }
 ],
 "metadata": {
  "kernelspec": {
   "display_name": "Python 3",
   "language": "python",
   "name": "python3"
  },
  "language_info": {
   "codemirror_mode": {
    "name": "ipython",
    "version": 3
   },
   "file_extension": ".py",
   "mimetype": "text/x-python",
   "name": "python",
   "nbconvert_exporter": "python",
   "pygments_lexer": "ipython3",
   "version": "3.8.8"
  },
  "nteract": {
   "version": "0.28.0"
  }
 },
 "nbformat": 4,
 "nbformat_minor": 4
}
