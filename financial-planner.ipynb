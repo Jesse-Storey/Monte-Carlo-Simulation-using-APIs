{
 "cells": [
  {
   "cell_type": "markdown",
   "metadata": {},
   "source": [
    "# Financial Planning"
   ]
  },
  {
   "cell_type": "code",
   "execution_count": 1,
   "metadata": {},
   "outputs": [],
   "source": [
    "# Initial imports\n",
    "import os\n",
    "import requests\n",
    "import pandas as pd\n",
    "from dotenv import load_dotenv\n",
    "import alpaca_trade_api as tradeapi\n",
    "from MCForecastTools import MCSimulation\n",
    "import quandl\n",
    "\n",
    "%matplotlib inline"
   ]
  },
  {
   "cell_type": "code",
   "execution_count": 2,
   "metadata": {},
   "outputs": [],
   "source": [
    "import json"
   ]
  },
  {
   "cell_type": "code",
   "execution_count": 3,
   "metadata": {},
   "outputs": [
    {
     "data": {
      "text/plain": [
       "True"
      ]
     },
     "execution_count": 3,
     "metadata": {},
     "output_type": "execute_result"
    }
   ],
   "source": [
    "# Load .env enviroment variables\n",
    "load_dotenv()"
   ]
  },
  {
   "cell_type": "markdown",
   "metadata": {},
   "source": [
    "## Part 1 - Personal Finance Planner"
   ]
  },
  {
   "cell_type": "markdown",
   "metadata": {},
   "source": [
    "### Collect Crypto Prices Using the `requests` Library"
   ]
  },
  {
   "cell_type": "code",
   "execution_count": 4,
   "metadata": {},
   "outputs": [],
   "source": [
    "# Set current amount of crypto assets\n",
    "BTC = 1.2\n",
    "ETH = 5.3"
   ]
  },
  {
   "cell_type": "code",
   "execution_count": 5,
   "metadata": {},
   "outputs": [],
   "source": [
    "# Crypto API URLs\n",
    "btc_url = \"https://api.alternative.me/v2/ticker/Bitcoin/?convert=CAD\"\n",
    "eth_url = \"https://api.alternative.me/v2/ticker/Ethereum/?convert=CAD\""
   ]
  },
  {
   "cell_type": "code",
   "execution_count": 6,
   "metadata": {},
   "outputs": [
    {
     "name": "stdout",
     "output_type": "stream",
     "text": [
      "{\n",
      "    \"data\": {\n",
      "        \"1\": {\n",
      "            \"id\": 1,\n",
      "            \"name\": \"Bitcoin\",\n",
      "            \"symbol\": \"BTC\",\n",
      "            \"website_slug\": \"bitcoin\",\n",
      "            \"rank\": 1,\n",
      "            \"circulating_supply\": 18960637,\n",
      "            \"total_supply\": 18960637,\n",
      "            \"max_supply\": 21000000,\n",
      "            \"quotes\": {\n",
      "                \"USD\": {\n",
      "                    \"price\": 43668.0,\n",
      "                    \"volume_24h\": 16592523937,\n",
      "                    \"market_cap\": 827764359262,\n",
      "                    \"percentage_change_1h\": 0.109685645095156,\n",
      "                    \"percentage_change_24h\": -0.601248708669383,\n",
      "                    \"percentage_change_7d\": -1.61308321177041,\n",
      "                    \"percent_change_1h\": 0.109685645095156,\n",
      "                    \"percent_change_24h\": -0.601248708669383,\n",
      "                    \"percent_change_7d\": -1.61308321177041\n",
      "                }\n",
      "            },\n",
      "            \"last_updated\": 1645074118\n",
      "        }\n",
      "    },\n",
      "    \"metadata\": {\n",
      "        \"timestamp\": 1645074118,\n",
      "        \"num_cryptocurrencies\": 3105,\n",
      "        \"error\": null\n",
      "    }\n",
      "}\n"
     ]
    }
   ],
   "source": [
    "\n",
    "btc_url = \"https://api.alternative.me/v2/ticker/Bitcoin/?convert=CAD\"\n",
    "btc_url = btc_url + \"?format=json\"\n",
    "btc_data=requests.get(btc_url).json()\n",
    "print(json.dumps(btc_data, indent=4))\n",
    "btc_content=btc_data['data']['1']['quotes']['USD']['price']"
   ]
  },
  {
   "cell_type": "code",
   "execution_count": 7,
   "metadata": {},
   "outputs": [
    {
     "name": "stdout",
     "output_type": "stream",
     "text": [
      "{\n",
      "    \"data\": {\n",
      "        \"1027\": {\n",
      "            \"id\": 1027,\n",
      "            \"name\": \"Ethereum\",\n",
      "            \"symbol\": \"ETH\",\n",
      "            \"website_slug\": \"ethereum\",\n",
      "            \"rank\": 2,\n",
      "            \"circulating_supply\": 119613219,\n",
      "            \"total_supply\": 119613219,\n",
      "            \"max_supply\": 0,\n",
      "            \"quotes\": {\n",
      "                \"USD\": {\n",
      "                    \"price\": 3068.3,\n",
      "                    \"volume_24h\": 12669611054,\n",
      "                    \"market_cap\": 367031723760,\n",
      "                    \"percentage_change_1h\": -0.519439811201098,\n",
      "                    \"percentage_change_24h\": -1.82716369767344,\n",
      "                    \"percentage_change_7d\": -5.32636078693349,\n",
      "                    \"percent_change_1h\": -0.519439811201098,\n",
      "                    \"percent_change_24h\": -1.82716369767344,\n",
      "                    \"percent_change_7d\": -5.32636078693349\n",
      "                }\n",
      "            },\n",
      "            \"last_updated\": 1645074159\n",
      "        }\n",
      "    },\n",
      "    \"metadata\": {\n",
      "        \"timestamp\": 1645074159,\n",
      "        \"num_cryptocurrencies\": 3105,\n",
      "        \"error\": null\n",
      "    }\n",
      "}\n"
     ]
    }
   ],
   "source": [
    "eth_url = \"https://api.alternative.me/v2/ticker/Ethereum/?convert=CAD\"\n",
    "eth_url = eth_url + \"?format=json\"\n",
    "eth_data=requests.get(eth_url).json()\n",
    "print(json.dumps(eth_data, indent=4))\n",
    "eth_content=eth_data['data']['1027']['quotes']['USD']['price']"
   ]
  },
  {
   "cell_type": "code",
   "execution_count": 8,
   "metadata": {},
   "outputs": [
    {
     "name": "stdout",
     "output_type": "stream",
     "text": [
      "The current value of your 1.2 BTC is $43668.00\n",
      "The current value of your 5.3 ETH is $3068.30\n"
     ]
    }
   ],
   "source": [
    "# Print current crypto wallet balance\n",
    "print(f\"The current value of your {BTC} BTC is ${btc_content:0.2f}\")\n",
    "print(f\"The current value of your {ETH} ETH is ${eth_content:0.2f}\")"
   ]
  },
  {
   "cell_type": "markdown",
   "metadata": {},
   "source": [
    "### Collect Investments Data Using Alpaca: `SPY` (stocks) and `AGG` (bonds)"
   ]
  },
  {
   "cell_type": "code",
   "execution_count": 9,
   "metadata": {},
   "outputs": [],
   "source": [
    "# Set current amount of shares\n",
    "my_agg = 200\n",
    "my_spy = 50"
   ]
  },
  {
   "cell_type": "code",
   "execution_count": 10,
   "metadata": {},
   "outputs": [],
   "source": [
    "# Set Alpaca API key and secret\n",
    "alpaca_api_key = os.getenv(\"ALPACA_API_KEY\")\n",
    "alpaca_secret_key = os.getenv(\"ALPACA_SECRET_KEY\")\n",
    "\n",
    "\n",
    "\n",
    "# Create the Alpaca API object\n",
    "api = tradeapi.REST(\n",
    "    alpaca_api_key,\n",
    "    alpaca_secret_key,\n",
    "    api_version = \"v2\"\n",
    ")"
   ]
  },
  {
   "cell_type": "code",
   "execution_count": 11,
   "metadata": {},
   "outputs": [
    {
     "data": {
      "text/html": [
       "<div>\n",
       "<style scoped>\n",
       "    .dataframe tbody tr th:only-of-type {\n",
       "        vertical-align: middle;\n",
       "    }\n",
       "\n",
       "    .dataframe tbody tr th {\n",
       "        vertical-align: top;\n",
       "    }\n",
       "\n",
       "    .dataframe thead tr th {\n",
       "        text-align: left;\n",
       "    }\n",
       "\n",
       "    .dataframe thead tr:last-of-type th {\n",
       "        text-align: right;\n",
       "    }\n",
       "</style>\n",
       "<table border=\"1\" class=\"dataframe\">\n",
       "  <thead>\n",
       "    <tr>\n",
       "      <th></th>\n",
       "      <th colspan=\"5\" halign=\"left\">AGG</th>\n",
       "      <th colspan=\"5\" halign=\"left\">SPY</th>\n",
       "    </tr>\n",
       "    <tr>\n",
       "      <th></th>\n",
       "      <th>open</th>\n",
       "      <th>high</th>\n",
       "      <th>low</th>\n",
       "      <th>close</th>\n",
       "      <th>volume</th>\n",
       "      <th>open</th>\n",
       "      <th>high</th>\n",
       "      <th>low</th>\n",
       "      <th>close</th>\n",
       "      <th>volume</th>\n",
       "    </tr>\n",
       "    <tr>\n",
       "      <th>time</th>\n",
       "      <th></th>\n",
       "      <th></th>\n",
       "      <th></th>\n",
       "      <th></th>\n",
       "      <th></th>\n",
       "      <th></th>\n",
       "      <th></th>\n",
       "      <th></th>\n",
       "      <th></th>\n",
       "      <th></th>\n",
       "    </tr>\n",
       "  </thead>\n",
       "  <tbody>\n",
       "    <tr>\n",
       "      <th>2021-09-10 00:00:00-04:00</th>\n",
       "      <td>115.99</td>\n",
       "      <td>116.01</td>\n",
       "      <td>115.7801</td>\n",
       "      <td>115.87</td>\n",
       "      <td>2767552</td>\n",
       "      <td>451.04</td>\n",
       "      <td>451.49</td>\n",
       "      <td>445.31</td>\n",
       "      <td>445.5</td>\n",
       "      <td>75763259</td>\n",
       "    </tr>\n",
       "  </tbody>\n",
       "</table>\n",
       "</div>"
      ],
      "text/plain": [
       "                              AGG                                        SPY  \\\n",
       "                             open    high       low   close   volume    open   \n",
       "time                                                                           \n",
       "2021-09-10 00:00:00-04:00  115.99  116.01  115.7801  115.87  2767552  451.04   \n",
       "\n",
       "                                                            \n",
       "                             high     low  close    volume  \n",
       "time                                                        \n",
       "2021-09-10 00:00:00-04:00  451.49  445.31  445.5  75763259  "
      ]
     },
     "execution_count": 11,
     "metadata": {},
     "output_type": "execute_result"
    }
   ],
   "source": [
    "# Formatted current date as ISO format\n",
    "today = pd.Timestamp(\"2021-09-10\", tz=\"America/New_York\").isoformat()\n",
    "\n",
    "# Set the tickers\n",
    "tickers = [\"AGG\", \"SPY\"]\n",
    "\n",
    "# Set timeframe to '1D' for Alpaca API\n",
    "timeframe = \"1D\"\n",
    "\n",
    "# Get current closing prices for SPY and AGG\n",
    "ticker_data = api.get_barset(\n",
    "    tickers,\n",
    "    timeframe,\n",
    "    start=today,\n",
    "    end=today,\n",
    "    limit=1000,\n",
    ").df\n",
    "\n",
    "# Preview DataFrame\n",
    "ticker_data.head()"
   ]
  },
  {
   "cell_type": "code",
   "execution_count": 12,
   "metadata": {},
   "outputs": [
    {
     "name": "stdout",
     "output_type": "stream",
     "text": [
      "Current AGG closing price: $115.87\n",
      "Current SPY closing price: $445.5\n"
     ]
    }
   ],
   "source": [
    "# AGG and SPY close prices\n",
    "agg_close_price = float(ticker_data[\"AGG\"][\"close\"])\n",
    "spy_close_price = float(ticker_data[\"SPY\"][\"close\"])\n",
    "\n",
    "# Print AGG and SPY close prices\n",
    "print(f\"Current AGG closing price: ${agg_close_price}\")\n",
    "print(f\"Current SPY closing price: ${spy_close_price}\")"
   ]
  },
  {
   "cell_type": "code",
   "execution_count": 13,
   "metadata": {},
   "outputs": [],
   "source": [
    "shares_data = {\n",
    "    \"shares\": [200, 50]\n",
    "}\n",
    "df_shares = pd.DataFrame(shares_data, index=tickers)"
   ]
  },
  {
   "cell_type": "code",
   "execution_count": 14,
   "metadata": {},
   "outputs": [
    {
     "name": "stdout",
     "output_type": "stream",
     "text": [
      "The current value of your 50 SPY shares is $23174.00\n",
      "The current value of your 200 AGG shares is $22275.00\n"
     ]
    }
   ],
   "source": [
    "# The current value of shares\n",
    "agg_value = agg_close_price * df_shares.loc[\"AGG\"][\"shares\"]\n",
    "spy_value = spy_close_price * df_shares.loc[\"SPY\"][\"shares\"]\n",
    "\n",
    "# Print current value of shares\n",
    "print(f\"The current value of your {my_spy} SPY shares is ${agg_value:0.2f}\")\n",
    "print(f\"The current value of your {my_agg} AGG shares is ${spy_value:0.2f}\")"
   ]
  },
  {
   "cell_type": "markdown",
   "metadata": {},
   "source": [
    "### Savings Health Analysis"
   ]
  },
  {
   "cell_type": "code",
   "execution_count": 15,
   "metadata": {},
   "outputs": [
    {
     "data": {
      "text/html": [
       "<div>\n",
       "<style scoped>\n",
       "    .dataframe tbody tr th:only-of-type {\n",
       "        vertical-align: middle;\n",
       "    }\n",
       "\n",
       "    .dataframe tbody tr th {\n",
       "        vertical-align: top;\n",
       "    }\n",
       "\n",
       "    .dataframe thead th {\n",
       "        text-align: right;\n",
       "    }\n",
       "</style>\n",
       "<table border=\"1\" class=\"dataframe\">\n",
       "  <thead>\n",
       "    <tr style=\"text-align: right;\">\n",
       "      <th></th>\n",
       "      <th>cost</th>\n",
       "    </tr>\n",
       "  </thead>\n",
       "  <tbody>\n",
       "    <tr>\n",
       "      <th>crypto</th>\n",
       "      <td>46736.3</td>\n",
       "    </tr>\n",
       "    <tr>\n",
       "      <th>stocks</th>\n",
       "      <td>45449.0</td>\n",
       "    </tr>\n",
       "  </tbody>\n",
       "</table>\n",
       "</div>"
      ],
      "text/plain": [
       "           cost\n",
       "crypto  46736.3\n",
       "stocks  45449.0"
      ]
     },
     "metadata": {},
     "output_type": "display_data"
    }
   ],
   "source": [
    "# Set monthly household income\n",
    "monthly_income=12000\n",
    "\n",
    "# Consolidated financial assets data\n",
    "total_crypto=btc_content+eth_content\n",
    "total_stocks=agg_value+spy_value \n",
    "savings_data={\"cost\":[total_crypto,total_stocks]}\n",
    "save=[\"crypto\", \"stocks\"]\n",
    "# Created savings DataFrame\n",
    "df_savings = pd.DataFrame(savings_data, index=save)\n",
    "\n",
    "# Display savings DataFrame\n",
    "display(df_savings)"
   ]
  },
  {
   "cell_type": "code",
   "execution_count": 16,
   "metadata": {},
   "outputs": [
    {
     "data": {
      "text/plain": [
       "<AxesSubplot:title={'center':'Savings'}, ylabel='cost'>"
      ]
     },
     "execution_count": 16,
     "metadata": {},
     "output_type": "execute_result"
    },
    {
     "data": {
      "image/png": "[encoded data removed]",
      "text/plain": [
       "<Figure size 432x288 with 1 Axes>"
      ]
     },
     "metadata": {},
     "output_type": "display_data"
    }
   ],
   "source": [
    "# Plotted savings pie chart\n",
    "df_savings.plot.pie(y=\"cost\", title='Savings')"
   ]
  },
  {
   "cell_type": "code",
   "execution_count": 17,
   "metadata": {},
   "outputs": [
    {
     "data": {
      "text/plain": [
       "128185.3"
      ]
     },
     "execution_count": 17,
     "metadata": {},
     "output_type": "execute_result"
    }
   ],
   "source": [
    "# Set ideal emergency fund\n",
    "emergency_fund = monthly_income * 3\n",
    "\n",
    "# Calculating total amount of savings\n",
    "total_savings=total_stocks+total_crypto+emergency_fund\n",
    "total_savings"
   ]
  },
  {
   "cell_type": "markdown",
   "metadata": {},
   "source": [
    "## Part 2 - Retirement Planning\n",
    "\n",
    "### Monte Carlo Simulation"
   ]
  },
  {
   "cell_type": "code",
   "execution_count": 18,
   "metadata": {},
   "outputs": [],
   "source": [
    "# Set start and end dates of five years back from today.\n",
    "# Sample results may vary from the solution based on the time frame chosen\n",
    "start_date = pd.Timestamp('2016-10-03', tz='America/New_York').isoformat()\n",
    "end_date = pd.Timestamp('2021-10-03', tz='America/New_York').isoformat()"
   ]
  },
  {
   "cell_type": "code",
   "execution_count": 19,
   "metadata": {},
   "outputs": [
    {
     "data": {
      "text/html": [
       "<div>\n",
       "<style scoped>\n",
       "    .dataframe tbody tr th:only-of-type {\n",
       "        vertical-align: middle;\n",
       "    }\n",
       "\n",
       "    .dataframe tbody tr th {\n",
       "        vertical-align: top;\n",
       "    }\n",
       "\n",
       "    .dataframe thead tr th {\n",
       "        text-align: left;\n",
       "    }\n",
       "\n",
       "    .dataframe thead tr:last-of-type th {\n",
       "        text-align: right;\n",
       "    }\n",
       "</style>\n",
       "<table border=\"1\" class=\"dataframe\">\n",
       "  <thead>\n",
       "    <tr>\n",
       "      <th></th>\n",
       "      <th colspan=\"5\" halign=\"left\">AGG</th>\n",
       "      <th colspan=\"5\" halign=\"left\">SPY</th>\n",
       "    </tr>\n",
       "    <tr>\n",
       "      <th></th>\n",
       "      <th>open</th>\n",
       "      <th>high</th>\n",
       "      <th>low</th>\n",
       "      <th>close</th>\n",
       "      <th>volume</th>\n",
       "      <th>open</th>\n",
       "      <th>high</th>\n",
       "      <th>low</th>\n",
       "      <th>close</th>\n",
       "      <th>volume</th>\n",
       "    </tr>\n",
       "    <tr>\n",
       "      <th>time</th>\n",
       "      <th></th>\n",
       "      <th></th>\n",
       "      <th></th>\n",
       "      <th></th>\n",
       "      <th></th>\n",
       "      <th></th>\n",
       "      <th></th>\n",
       "      <th></th>\n",
       "      <th></th>\n",
       "      <th></th>\n",
       "    </tr>\n",
       "  </thead>\n",
       "  <tbody>\n",
       "    <tr>\n",
       "      <th>2017-10-11 00:00:00-04:00</th>\n",
       "      <td>109.47</td>\n",
       "      <td>109.53</td>\n",
       "      <td>109.42</td>\n",
       "      <td>109.47</td>\n",
       "      <td>1576528.0</td>\n",
       "      <td>NaN</td>\n",
       "      <td>NaN</td>\n",
       "      <td>NaN</td>\n",
       "      <td>NaN</td>\n",
       "      <td>NaN</td>\n",
       "    </tr>\n",
       "    <tr>\n",
       "      <th>2017-10-12 00:00:00-04:00</th>\n",
       "      <td>109.56</td>\n",
       "      <td>109.61</td>\n",
       "      <td>109.48</td>\n",
       "      <td>109.61</td>\n",
       "      <td>1797948.0</td>\n",
       "      <td>254.66</td>\n",
       "      <td>255.06</td>\n",
       "      <td>254.365</td>\n",
       "      <td>254.60</td>\n",
       "      <td>32195167.0</td>\n",
       "    </tr>\n",
       "    <tr>\n",
       "      <th>2017-10-13 00:00:00-04:00</th>\n",
       "      <td>109.82</td>\n",
       "      <td>109.87</td>\n",
       "      <td>109.69</td>\n",
       "      <td>109.85</td>\n",
       "      <td>1573645.0</td>\n",
       "      <td>255.14</td>\n",
       "      <td>255.27</td>\n",
       "      <td>254.640</td>\n",
       "      <td>254.91</td>\n",
       "      <td>33563533.0</td>\n",
       "    </tr>\n",
       "    <tr>\n",
       "      <th>2017-10-16 00:00:00-04:00</th>\n",
       "      <td>109.75</td>\n",
       "      <td>109.81</td>\n",
       "      <td>109.66</td>\n",
       "      <td>109.74</td>\n",
       "      <td>3556213.0</td>\n",
       "      <td>255.21</td>\n",
       "      <td>255.51</td>\n",
       "      <td>254.820</td>\n",
       "      <td>255.30</td>\n",
       "      <td>25720677.0</td>\n",
       "    </tr>\n",
       "    <tr>\n",
       "      <th>2017-10-17 00:00:00-04:00</th>\n",
       "      <td>109.62</td>\n",
       "      <td>109.74</td>\n",
       "      <td>109.55</td>\n",
       "      <td>109.70</td>\n",
       "      <td>1638086.0</td>\n",
       "      <td>255.24</td>\n",
       "      <td>255.52</td>\n",
       "      <td>254.980</td>\n",
       "      <td>255.46</td>\n",
       "      <td>23608473.0</td>\n",
       "    </tr>\n",
       "  </tbody>\n",
       "</table>\n",
       "</div>"
      ],
      "text/plain": [
       "                              AGG                                        SPY  \\\n",
       "                             open    high     low   close     volume    open   \n",
       "time                                                                           \n",
       "2017-10-11 00:00:00-04:00  109.47  109.53  109.42  109.47  1576528.0     NaN   \n",
       "2017-10-12 00:00:00-04:00  109.56  109.61  109.48  109.61  1797948.0  254.66   \n",
       "2017-10-13 00:00:00-04:00  109.82  109.87  109.69  109.85  1573645.0  255.14   \n",
       "2017-10-16 00:00:00-04:00  109.75  109.81  109.66  109.74  3556213.0  255.21   \n",
       "2017-10-17 00:00:00-04:00  109.62  109.74  109.55  109.70  1638086.0  255.24   \n",
       "\n",
       "                                                                \n",
       "                             high      low   close      volume  \n",
       "time                                                            \n",
       "2017-10-11 00:00:00-04:00     NaN      NaN     NaN         NaN  \n",
       "2017-10-12 00:00:00-04:00  255.06  254.365  254.60  32195167.0  \n",
       "2017-10-13 00:00:00-04:00  255.27  254.640  254.91  33563533.0  \n",
       "2017-10-16 00:00:00-04:00  255.51  254.820  255.30  25720677.0  \n",
       "2017-10-17 00:00:00-04:00  255.52  254.980  255.46  23608473.0  "
      ]
     },
     "execution_count": 19,
     "metadata": {},
     "output_type": "execute_result"
    }
   ],
   "source": [
    "# Got 5 years' worth of historical data for SPY and AGG\n",
    "# (use a limit=1000 parameter to call the most recent 1000 days of data)\n",
    "df_stock_data = api.get_barset(\n",
    "    tickers,\n",
    "    timeframe,\n",
    "    start=start_date,\n",
    "    end=end_date,\n",
    "    limit=1000,\n",
    ").df\n",
    "\n",
    "# Display sample data\n",
    "df_stock_data.head()"
   ]
  },
  {
   "cell_type": "code",
   "execution_count": 20,
   "metadata": {},
   "outputs": [],
   "source": [
    "# Configuring a Monte Carlo simulation to forecast 30 years cumulative returns\n",
    "num_sims = 500\n",
    "\n",
    "\n",
    "MC_thirtyyear = MCSimulation(\n",
    "    portfolio_data = df_stock_data,\n",
    "    weights = [.60,.40],\n",
    "    num_simulation = num_sims,\n",
    "    num_trading_days = 252*30\n",
    ")"
   ]
  },
  {
   "cell_type": "code",
   "execution_count": 21,
   "metadata": {},
   "outputs": [
    {
     "data": {
      "text/html": [
       "<div>\n",
       "<style scoped>\n",
       "    .dataframe tbody tr th:only-of-type {\n",
       "        vertical-align: middle;\n",
       "    }\n",
       "\n",
       "    .dataframe tbody tr th {\n",
       "        vertical-align: top;\n",
       "    }\n",
       "\n",
       "    .dataframe thead tr th {\n",
       "        text-align: left;\n",
       "    }\n",
       "\n",
       "    .dataframe thead tr:last-of-type th {\n",
       "        text-align: right;\n",
       "    }\n",
       "</style>\n",
       "<table border=\"1\" class=\"dataframe\">\n",
       "  <thead>\n",
       "    <tr>\n",
       "      <th></th>\n",
       "      <th colspan=\"6\" halign=\"left\">AGG</th>\n",
       "      <th colspan=\"6\" halign=\"left\">SPY</th>\n",
       "    </tr>\n",
       "    <tr>\n",
       "      <th></th>\n",
       "      <th>open</th>\n",
       "      <th>high</th>\n",
       "      <th>low</th>\n",
       "      <th>close</th>\n",
       "      <th>volume</th>\n",
       "      <th>daily_return</th>\n",
       "      <th>open</th>\n",
       "      <th>high</th>\n",
       "      <th>low</th>\n",
       "      <th>close</th>\n",
       "      <th>volume</th>\n",
       "      <th>daily_return</th>\n",
       "    </tr>\n",
       "    <tr>\n",
       "      <th>time</th>\n",
       "      <th></th>\n",
       "      <th></th>\n",
       "      <th></th>\n",
       "      <th></th>\n",
       "      <th></th>\n",
       "      <th></th>\n",
       "      <th></th>\n",
       "      <th></th>\n",
       "      <th></th>\n",
       "      <th></th>\n",
       "      <th></th>\n",
       "      <th></th>\n",
       "    </tr>\n",
       "  </thead>\n",
       "  <tbody>\n",
       "    <tr>\n",
       "      <th>2017-10-11 00:00:00-04:00</th>\n",
       "      <td>109.47</td>\n",
       "      <td>109.53</td>\n",
       "      <td>109.42</td>\n",
       "      <td>109.47</td>\n",
       "      <td>1576528.0</td>\n",
       "      <td>NaN</td>\n",
       "      <td>NaN</td>\n",
       "      <td>NaN</td>\n",
       "      <td>NaN</td>\n",
       "      <td>NaN</td>\n",
       "      <td>NaN</td>\n",
       "      <td>NaN</td>\n",
       "    </tr>\n",
       "    <tr>\n",
       "      <th>2017-10-12 00:00:00-04:00</th>\n",
       "      <td>109.56</td>\n",
       "      <td>109.61</td>\n",
       "      <td>109.48</td>\n",
       "      <td>109.61</td>\n",
       "      <td>1797948.0</td>\n",
       "      <td>0.001279</td>\n",
       "      <td>254.66</td>\n",
       "      <td>255.06</td>\n",
       "      <td>254.365</td>\n",
       "      <td>254.60</td>\n",
       "      <td>32195167.0</td>\n",
       "      <td>NaN</td>\n",
       "    </tr>\n",
       "    <tr>\n",
       "      <th>2017-10-13 00:00:00-04:00</th>\n",
       "      <td>109.82</td>\n",
       "      <td>109.87</td>\n",
       "      <td>109.69</td>\n",
       "      <td>109.85</td>\n",
       "      <td>1573645.0</td>\n",
       "      <td>0.002190</td>\n",
       "      <td>255.14</td>\n",
       "      <td>255.27</td>\n",
       "      <td>254.640</td>\n",
       "      <td>254.91</td>\n",
       "      <td>33563533.0</td>\n",
       "      <td>0.001218</td>\n",
       "    </tr>\n",
       "    <tr>\n",
       "      <th>2017-10-16 00:00:00-04:00</th>\n",
       "      <td>109.75</td>\n",
       "      <td>109.81</td>\n",
       "      <td>109.66</td>\n",
       "      <td>109.74</td>\n",
       "      <td>3556213.0</td>\n",
       "      <td>-0.001001</td>\n",
       "      <td>255.21</td>\n",
       "      <td>255.51</td>\n",
       "      <td>254.820</td>\n",
       "      <td>255.30</td>\n",
       "      <td>25720677.0</td>\n",
       "      <td>0.001530</td>\n",
       "    </tr>\n",
       "    <tr>\n",
       "      <th>2017-10-17 00:00:00-04:00</th>\n",
       "      <td>109.62</td>\n",
       "      <td>109.74</td>\n",
       "      <td>109.55</td>\n",
       "      <td>109.70</td>\n",
       "      <td>1638086.0</td>\n",
       "      <td>-0.000364</td>\n",
       "      <td>255.24</td>\n",
       "      <td>255.52</td>\n",
       "      <td>254.980</td>\n",
       "      <td>255.46</td>\n",
       "      <td>23608473.0</td>\n",
       "      <td>0.000627</td>\n",
       "    </tr>\n",
       "  </tbody>\n",
       "</table>\n",
       "</div>"
      ],
      "text/plain": [
       "                              AGG                                     \\\n",
       "                             open    high     low   close     volume   \n",
       "time                                                                   \n",
       "2017-10-11 00:00:00-04:00  109.47  109.53  109.42  109.47  1576528.0   \n",
       "2017-10-12 00:00:00-04:00  109.56  109.61  109.48  109.61  1797948.0   \n",
       "2017-10-13 00:00:00-04:00  109.82  109.87  109.69  109.85  1573645.0   \n",
       "2017-10-16 00:00:00-04:00  109.75  109.81  109.66  109.74  3556213.0   \n",
       "2017-10-17 00:00:00-04:00  109.62  109.74  109.55  109.70  1638086.0   \n",
       "\n",
       "                                           SPY                           \\\n",
       "                          daily_return    open    high      low   close   \n",
       "time                                                                      \n",
       "2017-10-11 00:00:00-04:00          NaN     NaN     NaN      NaN     NaN   \n",
       "2017-10-12 00:00:00-04:00     0.001279  254.66  255.06  254.365  254.60   \n",
       "2017-10-13 00:00:00-04:00     0.002190  255.14  255.27  254.640  254.91   \n",
       "2017-10-16 00:00:00-04:00    -0.001001  255.21  255.51  254.820  255.30   \n",
       "2017-10-17 00:00:00-04:00    -0.000364  255.24  255.52  254.980  255.46   \n",
       "\n",
       "                                                    \n",
       "                               volume daily_return  \n",
       "time                                                \n",
       "2017-10-11 00:00:00-04:00         NaN          NaN  \n",
       "2017-10-12 00:00:00-04:00  32195167.0          NaN  \n",
       "2017-10-13 00:00:00-04:00  33563533.0     0.001218  \n",
       "2017-10-16 00:00:00-04:00  25720677.0     0.001530  \n",
       "2017-10-17 00:00:00-04:00  23608473.0     0.000627  "
      ]
     },
     "execution_count": 21,
     "metadata": {},
     "output_type": "execute_result"
    }
   ],
   "source": [
    "# Printing the simulation input data\n",
    "MC_thirtyyear.portfolio_data.head()"
   ]
  },
  {
   "cell_type": "code",
   "execution_count": 22,
   "metadata": {},
   "outputs": [
    {
     "name": "stdout",
     "output_type": "stream",
     "text": [
      "Running Monte Carlo simulation number 0.\n",
      "Running Monte Carlo simulation number 10.\n",
      "Running Monte Carlo simulation number 20.\n",
      "Running Monte Carlo simulation number 30.\n",
      "Running Monte Carlo simulation number 40.\n",
      "Running Monte Carlo simulation number 50.\n",
      "Running Monte Carlo simulation number 60.\n",
      "Running Monte Carlo simulation number 70.\n",
      "Running Monte Carlo simulation number 80.\n",
      "Running Monte Carlo simulation number 90.\n",
      "Running Monte Carlo simulation number 100.\n",
      "Running Monte Carlo simulation number 110.\n",
      "Running Monte Carlo simulation number 120.\n",
      "Running Monte Carlo simulation number 130.\n",
      "Running Monte Carlo simulation number 140.\n",
      "Running Monte Carlo simulation number 150.\n",
      "Running Monte Carlo simulation number 160.\n",
      "Running Monte Carlo simulation number 170.\n",
      "Running Monte Carlo simulation number 180.\n",
      "Running Monte Carlo simulation number 190.\n",
      "Running Monte Carlo simulation number 200.\n",
      "Running Monte Carlo simulation number 210.\n",
      "Running Monte Carlo simulation number 220.\n",
      "Running Monte Carlo simulation number 230.\n",
      "Running Monte Carlo simulation number 240.\n",
      "Running Monte Carlo simulation number 250.\n",
      "Running Monte Carlo simulation number 260.\n",
      "Running Monte Carlo simulation number 270.\n",
      "Running Monte Carlo simulation number 280.\n",
      "Running Monte Carlo simulation number 290.\n",
      "Running Monte Carlo simulation number 300.\n",
      "Running Monte Carlo simulation number 310.\n",
      "Running Monte Carlo simulation number 320.\n",
      "Running Monte Carlo simulation number 330.\n",
      "Running Monte Carlo simulation number 340.\n",
      "Running Monte Carlo simulation number 350.\n",
      "Running Monte Carlo simulation number 360.\n",
      "Running Monte Carlo simulation number 370.\n",
      "Running Monte Carlo simulation number 380.\n",
      "Running Monte Carlo simulation number 390.\n",
      "Running Monte Carlo simulation number 400.\n",
      "Running Monte Carlo simulation number 410.\n",
      "Running Monte Carlo simulation number 420.\n",
      "Running Monte Carlo simulation number 430.\n",
      "Running Monte Carlo simulation number 440.\n",
      "Running Monte Carlo simulation number 450.\n",
      "Running Monte Carlo simulation number 460.\n",
      "Running Monte Carlo simulation number 470.\n",
      "Running Monte Carlo simulation number 480.\n",
      "Running Monte Carlo simulation number 490.\n"
     ]
    },
    {
     "data": {
      "text/html": [
       "<div>\n",
       "<style scoped>\n",
       "    .dataframe tbody tr th:only-of-type {\n",
       "        vertical-align: middle;\n",
       "    }\n",
       "\n",
       "    .dataframe tbody tr th {\n",
       "        vertical-align: top;\n",
       "    }\n",
       "\n",
       "    .dataframe thead th {\n",
       "        text-align: right;\n",
       "    }\n",
       "</style>\n",
       "<table border=\"1\" class=\"dataframe\">\n",
       "  <thead>\n",
       "    <tr style=\"text-align: right;\">\n",
       "      <th></th>\n",
       "      <th>0</th>\n",
       "      <th>1</th>\n",
       "      <th>2</th>\n",
       "      <th>3</th>\n",
       "      <th>4</th>\n",
       "      <th>5</th>\n",
       "      <th>6</th>\n",
       "      <th>7</th>\n",
       "      <th>8</th>\n",
       "      <th>9</th>\n",
       "      <th>...</th>\n",
       "      <th>490</th>\n",
       "      <th>491</th>\n",
       "      <th>492</th>\n",
       "      <th>493</th>\n",
       "      <th>494</th>\n",
       "      <th>495</th>\n",
       "      <th>496</th>\n",
       "      <th>497</th>\n",
       "      <th>498</th>\n",
       "      <th>499</th>\n",
       "    </tr>\n",
       "  </thead>\n",
       "  <tbody>\n",
       "    <tr>\n",
       "      <th>0</th>\n",
       "      <td>1.000000</td>\n",
       "      <td>1.000000</td>\n",
       "      <td>1.000000</td>\n",
       "      <td>1.000000</td>\n",
       "      <td>1.000000</td>\n",
       "      <td>1.000000</td>\n",
       "      <td>1.000000</td>\n",
       "      <td>1.000000</td>\n",
       "      <td>1.000000</td>\n",
       "      <td>1.000000</td>\n",
       "      <td>...</td>\n",
       "      <td>1.000000</td>\n",
       "      <td>1.000000</td>\n",
       "      <td>1.000000</td>\n",
       "      <td>1.000000</td>\n",
       "      <td>1.000000</td>\n",
       "      <td>1.000000</td>\n",
       "      <td>1.000000</td>\n",
       "      <td>1.000000</td>\n",
       "      <td>1.000000</td>\n",
       "      <td>1.000000</td>\n",
       "    </tr>\n",
       "    <tr>\n",
       "      <th>1</th>\n",
       "      <td>0.996682</td>\n",
       "      <td>0.996609</td>\n",
       "      <td>1.006344</td>\n",
       "      <td>1.001930</td>\n",
       "      <td>0.995034</td>\n",
       "      <td>1.003100</td>\n",
       "      <td>1.002601</td>\n",
       "      <td>1.000692</td>\n",
       "      <td>0.989486</td>\n",
       "      <td>0.992561</td>\n",
       "      <td>...</td>\n",
       "      <td>1.008104</td>\n",
       "      <td>1.007410</td>\n",
       "      <td>1.001988</td>\n",
       "      <td>1.003565</td>\n",
       "      <td>0.992884</td>\n",
       "      <td>0.993667</td>\n",
       "      <td>0.996746</td>\n",
       "      <td>0.997148</td>\n",
       "      <td>0.997230</td>\n",
       "      <td>0.998424</td>\n",
       "    </tr>\n",
       "    <tr>\n",
       "      <th>2</th>\n",
       "      <td>1.002074</td>\n",
       "      <td>0.992763</td>\n",
       "      <td>1.007835</td>\n",
       "      <td>1.003332</td>\n",
       "      <td>0.994675</td>\n",
       "      <td>1.007545</td>\n",
       "      <td>1.006008</td>\n",
       "      <td>1.005003</td>\n",
       "      <td>0.988641</td>\n",
       "      <td>1.000924</td>\n",
       "      <td>...</td>\n",
       "      <td>1.007713</td>\n",
       "      <td>1.010379</td>\n",
       "      <td>1.014915</td>\n",
       "      <td>1.004179</td>\n",
       "      <td>0.989012</td>\n",
       "      <td>0.995212</td>\n",
       "      <td>0.990565</td>\n",
       "      <td>0.996378</td>\n",
       "      <td>0.981206</td>\n",
       "      <td>0.989601</td>\n",
       "    </tr>\n",
       "    <tr>\n",
       "      <th>3</th>\n",
       "      <td>1.011689</td>\n",
       "      <td>0.994666</td>\n",
       "      <td>1.009018</td>\n",
       "      <td>1.004879</td>\n",
       "      <td>0.999056</td>\n",
       "      <td>1.006621</td>\n",
       "      <td>1.011585</td>\n",
       "      <td>1.005420</td>\n",
       "      <td>0.990000</td>\n",
       "      <td>1.000400</td>\n",
       "      <td>...</td>\n",
       "      <td>1.004111</td>\n",
       "      <td>1.013325</td>\n",
       "      <td>1.017324</td>\n",
       "      <td>1.006258</td>\n",
       "      <td>0.997689</td>\n",
       "      <td>0.996910</td>\n",
       "      <td>0.986563</td>\n",
       "      <td>0.999683</td>\n",
       "      <td>0.974871</td>\n",
       "      <td>0.985315</td>\n",
       "    </tr>\n",
       "    <tr>\n",
       "      <th>4</th>\n",
       "      <td>0.998907</td>\n",
       "      <td>0.991898</td>\n",
       "      <td>1.007513</td>\n",
       "      <td>1.014644</td>\n",
       "      <td>1.000503</td>\n",
       "      <td>0.995058</td>\n",
       "      <td>1.014431</td>\n",
       "      <td>1.015691</td>\n",
       "      <td>0.988696</td>\n",
       "      <td>0.998844</td>\n",
       "      <td>...</td>\n",
       "      <td>1.013363</td>\n",
       "      <td>1.018082</td>\n",
       "      <td>1.016922</td>\n",
       "      <td>1.010076</td>\n",
       "      <td>0.999705</td>\n",
       "      <td>0.988896</td>\n",
       "      <td>0.980311</td>\n",
       "      <td>0.996567</td>\n",
       "      <td>0.963940</td>\n",
       "      <td>0.987338</td>\n",
       "    </tr>\n",
       "    <tr>\n",
       "      <th>...</th>\n",
       "      <td>...</td>\n",
       "      <td>...</td>\n",
       "      <td>...</td>\n",
       "      <td>...</td>\n",
       "      <td>...</td>\n",
       "      <td>...</td>\n",
       "      <td>...</td>\n",
       "      <td>...</td>\n",
       "      <td>...</td>\n",
       "      <td>...</td>\n",
       "      <td>...</td>\n",
       "      <td>...</td>\n",
       "      <td>...</td>\n",
       "      <td>...</td>\n",
       "      <td>...</td>\n",
       "      <td>...</td>\n",
       "      <td>...</td>\n",
       "      <td>...</td>\n",
       "      <td>...</td>\n",
       "      <td>...</td>\n",
       "      <td>...</td>\n",
       "    </tr>\n",
       "    <tr>\n",
       "      <th>7556</th>\n",
       "      <td>11.810363</td>\n",
       "      <td>3.664182</td>\n",
       "      <td>7.641397</td>\n",
       "      <td>3.632627</td>\n",
       "      <td>5.355094</td>\n",
       "      <td>8.445154</td>\n",
       "      <td>21.141315</td>\n",
       "      <td>7.149874</td>\n",
       "      <td>7.862121</td>\n",
       "      <td>5.060012</td>\n",
       "      <td>...</td>\n",
       "      <td>12.000709</td>\n",
       "      <td>6.498758</td>\n",
       "      <td>10.967871</td>\n",
       "      <td>10.443445</td>\n",
       "      <td>7.513030</td>\n",
       "      <td>7.221106</td>\n",
       "      <td>6.859766</td>\n",
       "      <td>9.156179</td>\n",
       "      <td>6.797285</td>\n",
       "      <td>3.556898</td>\n",
       "    </tr>\n",
       "    <tr>\n",
       "      <th>7557</th>\n",
       "      <td>11.748789</td>\n",
       "      <td>3.656471</td>\n",
       "      <td>7.627586</td>\n",
       "      <td>3.639627</td>\n",
       "      <td>5.374187</td>\n",
       "      <td>8.446956</td>\n",
       "      <td>21.071218</td>\n",
       "      <td>7.069279</td>\n",
       "      <td>7.911586</td>\n",
       "      <td>5.042520</td>\n",
       "      <td>...</td>\n",
       "      <td>11.946046</td>\n",
       "      <td>6.466555</td>\n",
       "      <td>10.953057</td>\n",
       "      <td>10.461929</td>\n",
       "      <td>7.485593</td>\n",
       "      <td>7.207600</td>\n",
       "      <td>6.871574</td>\n",
       "      <td>9.157407</td>\n",
       "      <td>6.797448</td>\n",
       "      <td>3.528942</td>\n",
       "    </tr>\n",
       "    <tr>\n",
       "      <th>7558</th>\n",
       "      <td>11.775207</td>\n",
       "      <td>3.662679</td>\n",
       "      <td>7.613213</td>\n",
       "      <td>3.599722</td>\n",
       "      <td>5.365000</td>\n",
       "      <td>8.489204</td>\n",
       "      <td>21.026092</td>\n",
       "      <td>7.110731</td>\n",
       "      <td>7.917018</td>\n",
       "      <td>5.055165</td>\n",
       "      <td>...</td>\n",
       "      <td>12.051587</td>\n",
       "      <td>6.444192</td>\n",
       "      <td>10.939042</td>\n",
       "      <td>10.495731</td>\n",
       "      <td>7.459051</td>\n",
       "      <td>7.238368</td>\n",
       "      <td>6.804484</td>\n",
       "      <td>9.137426</td>\n",
       "      <td>6.822006</td>\n",
       "      <td>3.543645</td>\n",
       "    </tr>\n",
       "    <tr>\n",
       "      <th>7559</th>\n",
       "      <td>11.861129</td>\n",
       "      <td>3.614639</td>\n",
       "      <td>7.684993</td>\n",
       "      <td>3.597970</td>\n",
       "      <td>5.342426</td>\n",
       "      <td>8.559118</td>\n",
       "      <td>21.100842</td>\n",
       "      <td>7.033524</td>\n",
       "      <td>7.977560</td>\n",
       "      <td>5.041677</td>\n",
       "      <td>...</td>\n",
       "      <td>12.072220</td>\n",
       "      <td>6.412052</td>\n",
       "      <td>10.868580</td>\n",
       "      <td>10.403944</td>\n",
       "      <td>7.414493</td>\n",
       "      <td>7.277720</td>\n",
       "      <td>6.754785</td>\n",
       "      <td>9.131176</td>\n",
       "      <td>6.869755</td>\n",
       "      <td>3.561772</td>\n",
       "    </tr>\n",
       "    <tr>\n",
       "      <th>7560</th>\n",
       "      <td>11.815286</td>\n",
       "      <td>3.618259</td>\n",
       "      <td>7.696793</td>\n",
       "      <td>3.592980</td>\n",
       "      <td>5.356676</td>\n",
       "      <td>8.597929</td>\n",
       "      <td>21.099818</td>\n",
       "      <td>7.042670</td>\n",
       "      <td>7.979380</td>\n",
       "      <td>4.993709</td>\n",
       "      <td>...</td>\n",
       "      <td>12.145213</td>\n",
       "      <td>6.425776</td>\n",
       "      <td>10.865736</td>\n",
       "      <td>10.435885</td>\n",
       "      <td>7.390321</td>\n",
       "      <td>7.301650</td>\n",
       "      <td>6.684311</td>\n",
       "      <td>9.224855</td>\n",
       "      <td>6.779893</td>\n",
       "      <td>3.563194</td>\n",
       "    </tr>\n",
       "  </tbody>\n",
       "</table>\n",
       "<p>7561 rows × 500 columns</p>\n",
       "</div>"
      ],
      "text/plain": [
       "            0         1         2         3         4         5          6    \\\n",
       "0      1.000000  1.000000  1.000000  1.000000  1.000000  1.000000   1.000000   \n",
       "1      0.996682  0.996609  1.006344  1.001930  0.995034  1.003100   1.002601   \n",
       "2      1.002074  0.992763  1.007835  1.003332  0.994675  1.007545   1.006008   \n",
       "3      1.011689  0.994666  1.009018  1.004879  0.999056  1.006621   1.011585   \n",
       "4      0.998907  0.991898  1.007513  1.014644  1.000503  0.995058   1.014431   \n",
       "...         ...       ...       ...       ...       ...       ...        ...   \n",
       "7556  11.810363  3.664182  7.641397  3.632627  5.355094  8.445154  21.141315   \n",
       "7557  11.748789  3.656471  7.627586  3.639627  5.374187  8.446956  21.071218   \n",
       "7558  11.775207  3.662679  7.613213  3.599722  5.365000  8.489204  21.026092   \n",
       "7559  11.861129  3.614639  7.684993  3.597970  5.342426  8.559118  21.100842   \n",
       "7560  11.815286  3.618259  7.696793  3.592980  5.356676  8.597929  21.099818   \n",
       "\n",
       "           7         8         9    ...        490       491        492  \\\n",
       "0     1.000000  1.000000  1.000000  ...   1.000000  1.000000   1.000000   \n",
       "1     1.000692  0.989486  0.992561  ...   1.008104  1.007410   1.001988   \n",
       "2     1.005003  0.988641  1.000924  ...   1.007713  1.010379   1.014915   \n",
       "3     1.005420  0.990000  1.000400  ...   1.004111  1.013325   1.017324   \n",
       "4     1.015691  0.988696  0.998844  ...   1.013363  1.018082   1.016922   \n",
       "...        ...       ...       ...  ...        ...       ...        ...   \n",
       "7556  7.149874  7.862121  5.060012  ...  12.000709  6.498758  10.967871   \n",
       "7557  7.069279  7.911586  5.042520  ...  11.946046  6.466555  10.953057   \n",
       "7558  7.110731  7.917018  5.055165  ...  12.051587  6.444192  10.939042   \n",
       "7559  7.033524  7.977560  5.041677  ...  12.072220  6.412052  10.868580   \n",
       "7560  7.042670  7.979380  4.993709  ...  12.145213  6.425776  10.865736   \n",
       "\n",
       "            493       494       495       496       497       498       499  \n",
       "0      1.000000  1.000000  1.000000  1.000000  1.000000  1.000000  1.000000  \n",
       "1      1.003565  0.992884  0.993667  0.996746  0.997148  0.997230  0.998424  \n",
       "2      1.004179  0.989012  0.995212  0.990565  0.996378  0.981206  0.989601  \n",
       "3      1.006258  0.997689  0.996910  0.986563  0.999683  0.974871  0.985315  \n",
       "4      1.010076  0.999705  0.988896  0.980311  0.996567  0.963940  0.987338  \n",
       "...         ...       ...       ...       ...       ...       ...       ...  \n",
       "7556  10.443445  7.513030  7.221106  6.859766  9.156179  6.797285  3.556898  \n",
       "7557  10.461929  7.485593  7.207600  6.871574  9.157407  6.797448  3.528942  \n",
       "7558  10.495731  7.459051  7.238368  6.804484  9.137426  6.822006  3.543645  \n",
       "7559  10.403944  7.414493  7.277720  6.754785  9.131176  6.869755  3.561772  \n",
       "7560  10.435885  7.390321  7.301650  6.684311  9.224855  6.779893  3.563194  \n",
       "\n",
       "[7561 rows x 500 columns]"
      ]
     },
     "execution_count": 22,
     "metadata": {},
     "output_type": "execute_result"
    }
   ],
   "source": [
    "# Running a Monte Carlo simulation to forecast 30 years cumulative returns\n",
    "MC_thirtyyear.calc_cumulative_return()"
   ]
  },
  {
   "cell_type": "code",
   "execution_count": 23,
   "metadata": {},
   "outputs": [
    {
     "data": {
      "image/png": "[encoded data removed]",
      "text/plain": [
       "<Figure size 432x288 with 1 Axes>"
      ]
     },
     "execution_count": 23,
     "metadata": {},
     "output_type": "execute_result"
    },
    {
     "data": {
      "image/png": "[encoded data removed]",
      "text/plain": [
       "<Figure size 432x288 with 1 Axes>"
      ]
     },
     "metadata": {
      "needs_background": "light"
     },
     "output_type": "display_data"
    }
   ],
   "source": [
    "# Plot simulation outcomes\n",
    "line_plot = MC_thirtyyear.plot_simulation()\n",
    "line_plot.get_figure()"
   ]
  },
  {
   "cell_type": "code",
   "execution_count": 24,
   "metadata": {},
   "outputs": [
    {
     "data": {
      "text/plain": [
       "<AxesSubplot:ylabel='Frequency'>"
      ]
     },
     "execution_count": 24,
     "metadata": {},
     "output_type": "execute_result"
    },
    {
     "data": {
      "image/png": "[encoded data removed]",
      "text/plain": [
       "<Figure size 432x288 with 1 Axes>"
      ]
     },
     "metadata": {
      "needs_background": "light"
     },
     "output_type": "display_data"
    }
   ],
   "source": [
    "# Plotting probability distribution and confidence intervals\n",
    "\n",
    "df_closing_prices = pd.DataFrame()\n",
    "\n",
    "\n",
    "for ticker in tickers:\n",
    "    df_closing_prices[ticker] = df_stock_data[ticker][\"close\"]\n",
    "\n",
    "# Dropped the time component of the date\n",
    "df_closing_prices.index = df_closing_prices.index.date\n",
    "\n",
    "\n",
    "# Computing daily returns\n",
    "df_daily_returns = df_closing_prices.pct_change().dropna()\n",
    "\n",
    "df_daily_returns.plot.hist()"
   ]
  },
  {
   "cell_type": "markdown",
   "metadata": {},
   "source": [
    "### Retirement Analysis"
   ]
  },
  {
   "cell_type": "code",
   "execution_count": 25,
   "metadata": {},
   "outputs": [
    {
     "name": "stdout",
     "output_type": "stream",
     "text": [
      "count           500.000000\n",
      "mean              8.619714\n",
      "std               4.369630\n",
      "min               1.838176\n",
      "25%               5.599582\n",
      "50%               7.685350\n",
      "75%              10.905091\n",
      "max              36.434648\n",
      "95% CI Lower      3.020856\n",
      "95% CI Upper     19.939574\n",
      "Name: 7560, dtype: float64\n"
     ]
    }
   ],
   "source": [
    "# Fetched summary statistics from the Monte Carlo simulation results\n",
    "tbl = MC_thirtyyear.summarize_cumulative_return()\n",
    "\n",
    "# Printing summary statistics\n",
    "print(tbl)"
   ]
  },
  {
   "cell_type": "markdown",
   "metadata": {},
   "source": [
    "### Calculated the expected portfolio return at the `95%` lower and upper confidence intervals based on a `$20,000` initial investment."
   ]
  },
  {
   "cell_type": "code",
   "execution_count": 26,
   "metadata": {},
   "outputs": [
    {
     "name": "stdout",
     "output_type": "stream",
     "text": [
      "There is a 95% chance that an initial investment of $20000 in the portfolio over the next 30 years will end within in the range of $60417.11 and $398791.48\n"
     ]
    }
   ],
   "source": [
    "# Initial investment\n",
    "initial_investment = 20000\n",
    "\n",
    "# Lower and upper `95%` confidence intervals to calculate the range of the possible outcomes of our $20,000\n",
    "ci_lower = round(tbl[8]*initial_investment,2)\n",
    "ci_upper = round(tbl[9]*initial_investment,2)\n",
    "\n",
    "# Printing results\n",
    "print(f\"There is a 95% chance that an initial investment of ${initial_investment} in the portfolio\"\n",
    "      f\" over the next 30 years will end within in the range of\"\n",
    "      f\" ${ci_lower} and ${ci_upper}\")"
   ]
  },
  {
   "cell_type": "markdown",
   "metadata": {},
   "source": [
    "### Calculating the expected portfolio return at the `95%` lower and upper confidence intervals based on a `50%` increase in the initial investment."
   ]
  },
  {
   "cell_type": "code",
   "execution_count": 27,
   "metadata": {},
   "outputs": [
    {
     "name": "stdout",
     "output_type": "stream",
     "text": [
      "There is a 95% chance that an initial investment of $30000.0 in the portfolio over the next 30 years will end within in the range of $90625.67 and $598187.22\n"
     ]
    }
   ],
   "source": [
    "# Set initial investment\n",
    "initial_investment = 20000 * 1.5\n",
    "\n",
    "# Used the lower and upper `95%` confidence intervals to calculate the range of the possible outcomes of our $30,000\n",
    "ci_lower = round(tbl[8]*initial_investment,2)\n",
    "ci_upper = round(tbl[9]*initial_investment,2)\n",
    "\n",
    "# Print results\n",
    "print(f\"There is a 95% chance that an initial investment of ${initial_investment} in the portfolio\"\n",
    "      f\" over the next 30 years will end within in the range of\"\n",
    "      f\" ${ci_lower} and ${ci_upper}\")"
   ]
  }
 ],
 "metadata": {
  "kernelspec": {
   "display_name": "Python 3",
   "language": "python",
   "name": "python3"
  },
  "language_info": {
   "codemirror_mode": {
    "name": "ipython",
    "version": 3
   },
   "file_extension": ".py",
   "mimetype": "text/x-python",
   "name": "python",
   "nbconvert_exporter": "python",
   "pygments_lexer": "ipython3",
   "version": "3.8.8"
  },
  "nteract": {
   "version": "0.28.0"
  }
 },
 "nbformat": 4,
 "nbformat_minor": 4
}
